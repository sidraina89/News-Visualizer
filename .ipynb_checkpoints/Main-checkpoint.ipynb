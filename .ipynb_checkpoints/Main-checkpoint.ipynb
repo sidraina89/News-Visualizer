{
 "cells": [
  {
   "cell_type": "markdown",
   "metadata": {},
   "source": [
    "## Code for visualizing News Headlines"
   ]
  },
  {
   "cell_type": "code",
   "execution_count": 132,
   "metadata": {},
   "outputs": [],
   "source": [
    "import requests\n",
    "import pandas as pd\n",
    "from datetime import datetime\n",
    "from matplotlib import pyplot as plt\n",
    "%matplotlib inline\n",
    "from NewsFetcher import NewsFetcher\n",
    "from nltk.tokenize import word_tokenize, sent_tokenize\n",
    "from nltk.corpus import stopwords\n",
    "from string import punctuation\n",
    "from collections import Counter\n",
    "import re\n",
    "import numpy as np\n",
    "from gensim.models import word2vec as w2c\n",
    "import multiprocessing as mp"
   ]
  },
  {
   "cell_type": "code",
   "execution_count": 119,
   "metadata": {
    "collapsed": true
   },
   "outputs": [],
   "source": [
    "news = pd.read_csv(\"./data/news.csv\")"
   ]
  },
  {
   "cell_type": "code",
   "execution_count": 120,
   "metadata": {},
   "outputs": [
    {
     "data": {
      "text/plain": [
       "(1250, 9)"
      ]
     },
     "execution_count": 120,
     "metadata": {},
     "output_type": "execute_result"
    }
   ],
   "source": [
    "news.shape"
   ]
  },
  {
   "cell_type": "code",
   "execution_count": 121,
   "metadata": {},
   "outputs": [
    {
     "data": {
      "text/plain": [
       "Index([u'author', u'description', u'publishedAt', u'source', u'title', u'url',\n",
       "       u'urlToImage', u'category', u'scraping_date'],\n",
       "      dtype='object')"
      ]
     },
     "execution_count": 121,
     "metadata": {},
     "output_type": "execute_result"
    }
   ],
   "source": [
    "news.columns"
   ]
  },
  {
   "cell_type": "code",
   "execution_count": 122,
   "metadata": {
    "collapsed": true
   },
   "outputs": [],
   "source": [
    "data = news.drop_duplicates('title')"
   ]
  },
  {
   "cell_type": "code",
   "execution_count": 123,
   "metadata": {},
   "outputs": [
    {
     "data": {
      "text/plain": [
       "(1241, 9)"
      ]
     },
     "execution_count": 123,
     "metadata": {},
     "output_type": "execute_result"
    }
   ],
   "source": [
    "data.shape"
   ]
  },
  {
   "cell_type": "code",
   "execution_count": 124,
   "metadata": {},
   "outputs": [
    {
     "data": {
      "image/png": "[encoded data removed]",
      "text/plain": [
       "<matplotlib.figure.Figure at 0x1c157908>"
      ]
     },
     "metadata": {},
     "output_type": "display_data"
    }
   ],
   "source": [
    "data.category.value_counts(normalize=True).plot(kind='bar');"
   ]
  },
  {
   "cell_type": "code",
   "execution_count": 125,
   "metadata": {},
   "outputs": [
    {
     "name": "stderr",
     "output_type": "stream",
     "text": [
      "C:\\Users\\sraina\\AppData\\Local\\Continuum\\anaconda2\\lib\\site-packages\\ipykernel_launcher.py:1: SettingWithCopyWarning: \n",
      "A value is trying to be set on a copy of a slice from a DataFrame.\n",
      "Try using .loc[row_indexer,col_indexer] = value instead\n",
      "\n",
      "See the caveats in the documentation: http://pandas.pydata.org/pandas-docs/stable/indexing.html#indexing-view-versus-copy\n",
      "  \"\"\"Entry point for launching an IPython kernel.\n",
      "C:\\Users\\sraina\\AppData\\Local\\Continuum\\anaconda2\\lib\\site-packages\\ipykernel_launcher.py:2: SettingWithCopyWarning: \n",
      "A value is trying to be set on a copy of a slice from a DataFrame.\n",
      "Try using .loc[row_indexer,col_indexer] = value instead\n",
      "\n",
      "See the caveats in the documentation: http://pandas.pydata.org/pandas-docs/stable/indexing.html#indexing-view-versus-copy\n",
      "  \n"
     ]
    }
   ],
   "source": [
    "data[\"Title_Len\"] = data.title.str.split().str.len()\n",
    "data[\"Desc_Len\"] = data.description.str.split().str.len()"
   ]
  },
  {
   "cell_type": "markdown",
   "metadata": {},
   "source": [
    "### Distribution of no. of words in Title"
   ]
  },
  {
   "cell_type": "code",
   "execution_count": 126,
   "metadata": {},
   "outputs": [
    {
     "data": {
      "text/plain": [
       "<matplotlib.axes._subplots.AxesSubplot at 0x1d5e79b0>"
      ]
     },
     "execution_count": 126,
     "metadata": {},
     "output_type": "execute_result"
    },
    {
     "data": {
      "image/png": "[encoded data removed]",
      "text/plain": [
       "<matplotlib.figure.Figure at 0x1d5d6e48>"
      ]
     },
     "metadata": {},
     "output_type": "display_data"
    }
   ],
   "source": [
    "data.Title_Len.hist()"
   ]
  },
  {
   "cell_type": "markdown",
   "metadata": {},
   "source": [
    "### Distribution of no. of words in Description"
   ]
  },
  {
   "cell_type": "code",
   "execution_count": 127,
   "metadata": {},
   "outputs": [
    {
     "data": {
      "text/plain": [
       "<matplotlib.axes._subplots.AxesSubplot at 0x1d6de5c0>"
      ]
     },
     "execution_count": 127,
     "metadata": {},
     "output_type": "execute_result"
    },
    {
     "data": {
      "image/png": "[encoded data removed]",
      "text/plain": [
       "<matplotlib.figure.Figure at 0x1d6d3710>"
      ]
     },
     "metadata": {},
     "output_type": "display_data"
    }
   ],
   "source": [
    "data.Desc_Len.hist()"
   ]
  },
  {
   "cell_type": "code",
   "execution_count": 128,
   "metadata": {},
   "outputs": [],
   "source": [
    "data = data[data.Title_Len >= 10]\n",
    "data.shape\n",
    "data.reset_index(inplace=True)"
   ]
  },
  {
   "cell_type": "code",
   "execution_count": 129,
   "metadata": {
    "collapsed": true
   },
   "outputs": [],
   "source": [
    "# Function to remove non-Ascii characters\n",
    "def _removeNonAscii(s): \n",
    "    return \"\".join(i for i in s if ord(i)<128)"
   ]
  },
  {
   "cell_type": "code",
   "execution_count": 130,
   "metadata": {
    "collapsed": true
   },
   "outputs": [],
   "source": [
    "#standardize the text (can't -> cannot, i'm -> i am). This will make the tokenization process more efficient.\n",
    "def clean_text(text):\n",
    "    text = text.lower()\n",
    "    text = re.sub(r\"what's\", \"what is \", text)\n",
    "    text = text.replace('(ap)', '')\n",
    "    text = re.sub(r\"\\'s\", \" is \", text)\n",
    "    text = re.sub(r\"\\'ve\", \" have \", text)\n",
    "    text = re.sub(r\"can't\", \"cannot \", text)\n",
    "    text = re.sub(r\"n't\", \" not \", text)\n",
    "    text = re.sub(r\"i'm\", \"i am \", text)\n",
    "    text = re.sub(r\"\\'re\", \" are \", text)\n",
    "    text = re.sub(r\"\\'d\", \" would \", text)\n",
    "    text = re.sub(r\"\\'ll\", \" will \", text)\n",
    "    text = re.sub(r'\\W+', ' ', text)\n",
    "    text = re.sub(r'\\s+', ' ', text)\n",
    "    text = re.sub(r\"\\\\\", \"\", text)\n",
    "    text = re.sub(r\"\\'\", \"\", text)    \n",
    "    text = re.sub(r\"\\\"\", \"\", text)\n",
    "    text = re.sub('[^a-zA-Z ?!]+', '', text)\n",
    "    text = _removeNonAscii(text)\n",
    "    text = text.strip()\n",
    "    return text"
   ]
  },
  {
   "cell_type": "code",
   "execution_count": 131,
   "metadata": {
    "collapsed": true
   },
   "outputs": [],
   "source": [
    "# Tokenizer function\n",
    "def tokenizer(text):\n",
    "    stop_words = stopwords.words('english')\n",
    "    text = clean_text(text)    \n",
    "    tokens = [word_tokenize(sent) for sent in sent_tokenize(text)]\n",
    "    tokens = list(reduce(lambda x,y: x+y, tokens))\n",
    "    tokens = list(filter(lambda token: token not in (stop_words + list(punctuation)) , tokens))\n",
    "    return tokens"
   ]
  },
  {
   "cell_type": "code",
   "execution_count": 139,
   "metadata": {},
   "outputs": [],
   "source": [
    "#data['description'] = data['description'].map(str).apply(lambda d: unicode(d.decode('utf-8')))\n",
    "#data['title'] = data['title'].map(str).apply(lambda d: unicode(d.decode('utf-8')))\n",
    "#data['desc_tokens'] = data['description'].map(str).apply(lambda d: tokenizer(d))\n",
    "data['title_tokens'] = data['title'].map(str).apply(lambda d: tokenizer(d))"
   ]
  },
  {
   "cell_type": "code",
   "execution_count": 140,
   "metadata": {
    "collapsed": true
   },
   "outputs": [],
   "source": [
    "def keywords(category):\n",
    "    tokens = data[data['category'] == category]['title_tokens']\n",
    "    alltokens = []\n",
    "    for token_list in tokens:\n",
    "        alltokens += token_list\n",
    "    counter = Counter(alltokens)\n",
    "    return counter.most_common(10)"
   ]
  },
  {
   "cell_type": "code",
   "execution_count": 141,
   "metadata": {},
   "outputs": [
    {
     "name": "stdout",
     "output_type": "stream",
     "text": [
      "('category :', 'business')\n",
      "('top 10 keywords:', [('trump', 23), ('world', 13), ('says', 12), ('cup', 11), ('fed', 9), ('may', 8), ('china', 8), ('billion', 8), ('apple', 7), ('us', 7)])\n",
      "---\n",
      "('category :', 'entertainment')\n",
      "('top 10 keywords:', [('em', 40), ('ign', 17), ('e', 12), ('new', 7), ('season', 7), ('us', 7), ('year', 6), ('last', 6), ('world', 6), ('would', 5)])\n",
      "---\n",
      "('category :', 'science')\n",
      "('top 10 keywords:', [('world', 2), ('parkinson', 1), ('bomb', 1), ('detect', 1), ('ai', 1), ('magnetic', 1), ('move', 1), ('mediterranean', 1), ('war', 1), ('years', 1)])\n",
      "---\n",
      "('category :', 'sports')\n",
      "('top 10 keywords:', [('world', 32), ('cup', 30), ('ronaldo', 10), ('spain', 8), ('v', 7), ('iran', 5), ('goal', 5), ('england', 5), ('russia', 5), ('cristiano', 5)])\n",
      "---\n",
      "('category :', 'general')\n",
      "('top 10 keywords:', [('trump', 70), ('world', 26), ('says', 25), ('cup', 25), ('north', 21), ('new', 20), ('korea', 19), ('man', 13), ('u', 12), ('report', 11)])\n",
      "---\n",
      "('category :', 'technology')\n",
      "('top 10 keywords:', [('apple', 9), ('e', 9), ('comcast', 8), ('games', 7), ('google', 7), ('recode', 6), ('says', 6), ('fox', 6), ('billion', 6), ('new', 5)])\n",
      "---\n"
     ]
    }
   ],
   "source": [
    "for category in set(data['category']):\n",
    "    print('category :', category)\n",
    "    print('top 10 keywords:', keywords(category))\n",
    "    print('---')"
   ]
  },
  {
   "cell_type": "code",
   "execution_count": 142,
   "metadata": {},
   "outputs": [
    {
     "data": {
      "text/plain": [
       "(797, 266)"
      ]
     },
     "execution_count": 142,
     "metadata": {},
     "output_type": "execute_result"
    }
   ],
   "source": [
    "from sklearn.feature_extraction.text import TfidfVectorizer\n",
    "\n",
    "vectorizer = TfidfVectorizer(min_df=5, analyzer='word', ngram_range=(1, 2), stop_words='english')\n",
    "vz = vectorizer.fit_transform(list(data['title_tokens'].map(lambda tokens: ' '.join(tokens))))\n",
    "\n",
    "vz.shape"
   ]
  },
  {
   "cell_type": "code",
   "execution_count": 143,
   "metadata": {},
   "outputs": [
    {
     "data": {
      "text/plain": [
       "<matplotlib.axes._subplots.AxesSubplot at 0x1da6b5c0>"
      ]
     },
     "execution_count": 143,
     "metadata": {},
     "output_type": "execute_result"
    },
    {
     "data": {
      "image/png": "[encoded data removed]",
      "text/plain": [
       "<matplotlib.figure.Figure at 0x1da607f0>"
      ]
     },
     "metadata": {},
     "output_type": "display_data"
    }
   ],
   "source": [
    "tfidf = dict(zip(vectorizer.get_feature_names(), vectorizer.idf_))\n",
    "tfidf = pd.DataFrame(columns=['tfidf']).from_dict(dict(tfidf), orient='index')\n",
    "tfidf.columns = ['tfidf']\n",
    "tfidf.tfidf.hist(bins=25)"
   ]
  },
  {
   "cell_type": "code",
   "execution_count": 144,
   "metadata": {},
   "outputs": [
    {
     "data": {
      "text/html": [
       "<div>\n",
       "<style>\n",
       "    .dataframe thead tr:only-child th {\n",
       "        text-align: right;\n",
       "    }\n",
       "\n",
       "    .dataframe thead th {\n",
       "        text-align: left;\n",
       "    }\n",
       "\n",
       "    .dataframe tbody tr th {\n",
       "        vertical-align: top;\n",
       "    }\n",
       "</style>\n",
       "<table border=\"1\" class=\"dataframe\">\n",
       "  <thead>\n",
       "    <tr style=\"text-align: right;\">\n",
       "      <th></th>\n",
       "      <th>tfidf</th>\n",
       "    </tr>\n",
       "  </thead>\n",
       "  <tbody>\n",
       "    <tr>\n",
       "      <th>trump</th>\n",
       "      <td>3.107398</td>\n",
       "    </tr>\n",
       "    <tr>\n",
       "      <th>world</th>\n",
       "      <td>3.325400</td>\n",
       "    </tr>\n",
       "    <tr>\n",
       "      <th>cup</th>\n",
       "      <td>3.448002</td>\n",
       "    </tr>\n",
       "    <tr>\n",
       "      <th>world cup</th>\n",
       "      <td>3.462601</td>\n",
       "    </tr>\n",
       "    <tr>\n",
       "      <th>says</th>\n",
       "      <td>3.810908</td>\n",
       "    </tr>\n",
       "    <tr>\n",
       "      <th>new</th>\n",
       "      <td>4.018547</td>\n",
       "    </tr>\n",
       "    <tr>\n",
       "      <th>north</th>\n",
       "      <td>4.424012</td>\n",
       "    </tr>\n",
       "    <tr>\n",
       "      <th>year</th>\n",
       "      <td>4.424012</td>\n",
       "    </tr>\n",
       "    <tr>\n",
       "      <th>korea</th>\n",
       "      <td>4.546614</td>\n",
       "    </tr>\n",
       "    <tr>\n",
       "      <th>north korea</th>\n",
       "      <td>4.591066</td>\n",
       "    </tr>\n",
       "    <tr>\n",
       "      <th>war</th>\n",
       "      <td>4.637586</td>\n",
       "    </tr>\n",
       "    <tr>\n",
       "      <th>like</th>\n",
       "      <td>4.686376</td>\n",
       "    </tr>\n",
       "    <tr>\n",
       "      <th>billion</th>\n",
       "      <td>4.686376</td>\n",
       "    </tr>\n",
       "    <tr>\n",
       "      <th>man</th>\n",
       "      <td>4.737670</td>\n",
       "    </tr>\n",
       "    <tr>\n",
       "      <th>apple</th>\n",
       "      <td>4.737670</td>\n",
       "    </tr>\n",
       "    <tr>\n",
       "      <th>ign</th>\n",
       "      <td>4.791737</td>\n",
       "    </tr>\n",
       "    <tr>\n",
       "      <th>ronaldo</th>\n",
       "      <td>4.791737</td>\n",
       "    </tr>\n",
       "    <tr>\n",
       "      <th>fox</th>\n",
       "      <td>4.791737</td>\n",
       "    </tr>\n",
       "    <tr>\n",
       "      <th>russia</th>\n",
       "      <td>4.791737</td>\n",
       "    </tr>\n",
       "    <tr>\n",
       "      <th>em</th>\n",
       "      <td>4.848895</td>\n",
       "    </tr>\n",
       "    <tr>\n",
       "      <th>comcast</th>\n",
       "      <td>4.909520</td>\n",
       "    </tr>\n",
       "    <tr>\n",
       "      <th>report</th>\n",
       "      <td>4.974058</td>\n",
       "    </tr>\n",
       "    <tr>\n",
       "      <th>games</th>\n",
       "      <td>4.974058</td>\n",
       "    </tr>\n",
       "    <tr>\n",
       "      <th>fed</th>\n",
       "      <td>5.043051</td>\n",
       "    </tr>\n",
       "    <tr>\n",
       "      <th>spain</th>\n",
       "      <td>5.043051</td>\n",
       "    </tr>\n",
       "    <tr>\n",
       "      <th>tariffs</th>\n",
       "      <td>5.117159</td>\n",
       "    </tr>\n",
       "    <tr>\n",
       "      <th>trade</th>\n",
       "      <td>5.117159</td>\n",
       "    </tr>\n",
       "    <tr>\n",
       "      <th>star</th>\n",
       "      <td>5.117159</td>\n",
       "    </tr>\n",
       "    <tr>\n",
       "      <th>grenfell</th>\n",
       "      <td>5.117159</td>\n",
       "    </tr>\n",
       "    <tr>\n",
       "      <th>times</th>\n",
       "      <td>5.117159</td>\n",
       "    </tr>\n",
       "    <tr>\n",
       "      <th>time</th>\n",
       "      <td>5.117159</td>\n",
       "    </tr>\n",
       "    <tr>\n",
       "      <th>comey</th>\n",
       "      <td>5.197202</td>\n",
       "    </tr>\n",
       "    <tr>\n",
       "      <th>netflix</th>\n",
       "      <td>5.197202</td>\n",
       "    </tr>\n",
       "    <tr>\n",
       "      <th>manafort</th>\n",
       "      <td>5.197202</td>\n",
       "    </tr>\n",
       "    <tr>\n",
       "      <th>china</th>\n",
       "      <td>5.197202</td>\n",
       "    </tr>\n",
       "    <tr>\n",
       "      <th>fbi</th>\n",
       "      <td>5.197202</td>\n",
       "    </tr>\n",
       "    <tr>\n",
       "      <th>brexit</th>\n",
       "      <td>5.197202</td>\n",
       "    </tr>\n",
       "    <tr>\n",
       "      <th>people</th>\n",
       "      <td>5.197202</td>\n",
       "    </tr>\n",
       "    <tr>\n",
       "      <th>help</th>\n",
       "      <td>5.284213</td>\n",
       "    </tr>\n",
       "    <tr>\n",
       "      <th>cristiano ronaldo</th>\n",
       "      <td>5.284213</td>\n",
       "    </tr>\n",
       "  </tbody>\n",
       "</table>\n",
       "</div>"
      ],
      "text/plain": [
       "                      tfidf\n",
       "trump              3.107398\n",
       "world              3.325400\n",
       "cup                3.448002\n",
       "world cup          3.462601\n",
       "says               3.810908\n",
       "new                4.018547\n",
       "north              4.424012\n",
       "year               4.424012\n",
       "korea              4.546614\n",
       "north korea        4.591066\n",
       "war                4.637586\n",
       "like               4.686376\n",
       "billion            4.686376\n",
       "man                4.737670\n",
       "apple              4.737670\n",
       "ign                4.791737\n",
       "ronaldo            4.791737\n",
       "fox                4.791737\n",
       "russia             4.791737\n",
       "em                 4.848895\n",
       "comcast            4.909520\n",
       "report             4.974058\n",
       "games              4.974058\n",
       "fed                5.043051\n",
       "spain              5.043051\n",
       "tariffs            5.117159\n",
       "trade              5.117159\n",
       "star               5.117159\n",
       "grenfell           5.117159\n",
       "times              5.117159\n",
       "time               5.117159\n",
       "comey              5.197202\n",
       "netflix            5.197202\n",
       "manafort           5.197202\n",
       "china              5.197202\n",
       "fbi                5.197202\n",
       "brexit             5.197202\n",
       "people             5.197202\n",
       "help               5.284213\n",
       "cristiano ronaldo  5.284213"
      ]
     },
     "execution_count": 144,
     "metadata": {},
     "output_type": "execute_result"
    }
   ],
   "source": [
    "tfidf.sort_values(by=['tfidf']).head(40)"
   ]
  },
  {
   "cell_type": "code",
   "execution_count": 145,
   "metadata": {},
   "outputs": [
    {
     "data": {
      "text/html": [
       "<div>\n",
       "<style>\n",
       "    .dataframe thead tr:only-child th {\n",
       "        text-align: right;\n",
       "    }\n",
       "\n",
       "    .dataframe thead th {\n",
       "        text-align: left;\n",
       "    }\n",
       "\n",
       "    .dataframe tbody tr th {\n",
       "        vertical-align: top;\n",
       "    }\n",
       "</style>\n",
       "<table border=\"1\" class=\"dataframe\">\n",
       "  <thead>\n",
       "    <tr style=\"text-align: right;\">\n",
       "      <th></th>\n",
       "      <th>tfidf</th>\n",
       "    </tr>\n",
       "  </thead>\n",
       "  <tbody>\n",
       "    <tr>\n",
       "      <th>mp</th>\n",
       "      <td>5.890349</td>\n",
       "    </tr>\n",
       "    <tr>\n",
       "      <th>sign</th>\n",
       "      <td>5.890349</td>\n",
       "    </tr>\n",
       "    <tr>\n",
       "      <th>david</th>\n",
       "      <td>5.890349</td>\n",
       "    </tr>\n",
       "    <tr>\n",
       "      <th>biggest</th>\n",
       "      <td>5.890349</td>\n",
       "    </tr>\n",
       "    <tr>\n",
       "      <th>iphone</th>\n",
       "      <td>5.890349</td>\n",
       "    </tr>\n",
       "    <tr>\n",
       "      <th>head</th>\n",
       "      <td>5.890349</td>\n",
       "    </tr>\n",
       "    <tr>\n",
       "      <th>buy</th>\n",
       "      <td>5.890349</td>\n",
       "    </tr>\n",
       "    <tr>\n",
       "      <th>taking</th>\n",
       "      <td>5.890349</td>\n",
       "    </tr>\n",
       "    <tr>\n",
       "      <th>trick</th>\n",
       "      <td>5.890349</td>\n",
       "    </tr>\n",
       "    <tr>\n",
       "      <th>antarctica</th>\n",
       "      <td>5.890349</td>\n",
       "    </tr>\n",
       "    <tr>\n",
       "      <th>russian</th>\n",
       "      <td>5.890349</td>\n",
       "    </tr>\n",
       "    <tr>\n",
       "      <th>time warner</th>\n",
       "      <td>5.890349</td>\n",
       "    </tr>\n",
       "    <tr>\n",
       "      <th>seeks</th>\n",
       "      <td>5.890349</td>\n",
       "    </tr>\n",
       "    <tr>\n",
       "      <th>trump says</th>\n",
       "      <td>5.890349</td>\n",
       "    </tr>\n",
       "    <tr>\n",
       "      <th>uk</th>\n",
       "      <td>5.890349</td>\n",
       "    </tr>\n",
       "    <tr>\n",
       "      <th>tell</th>\n",
       "      <td>5.890349</td>\n",
       "    </tr>\n",
       "    <tr>\n",
       "      <th>white house</th>\n",
       "      <td>5.890349</td>\n",
       "    </tr>\n",
       "    <tr>\n",
       "      <th>ps</th>\n",
       "      <td>5.890349</td>\n",
       "    </tr>\n",
       "    <tr>\n",
       "      <th>crisis</th>\n",
       "      <td>5.890349</td>\n",
       "    </tr>\n",
       "    <tr>\n",
       "      <th>let</th>\n",
       "      <td>5.890349</td>\n",
       "    </tr>\n",
       "    <tr>\n",
       "      <th>border</th>\n",
       "      <td>5.890349</td>\n",
       "    </tr>\n",
       "    <tr>\n",
       "      <th>kids</th>\n",
       "      <td>5.890349</td>\n",
       "    </tr>\n",
       "    <tr>\n",
       "      <th>search</th>\n",
       "      <td>5.890349</td>\n",
       "    </tr>\n",
       "    <tr>\n",
       "      <th>bidding war</th>\n",
       "      <td>5.890349</td>\n",
       "    </tr>\n",
       "    <tr>\n",
       "      <th>week</th>\n",
       "      <td>5.890349</td>\n",
       "    </tr>\n",
       "    <tr>\n",
       "      <th>fight</th>\n",
       "      <td>5.890349</td>\n",
       "    </tr>\n",
       "    <tr>\n",
       "      <th>revealed</th>\n",
       "      <td>5.890349</td>\n",
       "    </tr>\n",
       "    <tr>\n",
       "      <th>response</th>\n",
       "      <td>5.890349</td>\n",
       "    </tr>\n",
       "    <tr>\n",
       "      <th>hat trick</th>\n",
       "      <td>5.890349</td>\n",
       "    </tr>\n",
       "    <tr>\n",
       "      <th>warner</th>\n",
       "      <td>5.890349</td>\n",
       "    </tr>\n",
       "    <tr>\n",
       "      <th>year old</th>\n",
       "      <td>5.890349</td>\n",
       "    </tr>\n",
       "    <tr>\n",
       "      <th>stranger</th>\n",
       "      <td>5.890349</td>\n",
       "    </tr>\n",
       "    <tr>\n",
       "      <th>director</th>\n",
       "      <td>5.890349</td>\n",
       "    </tr>\n",
       "    <tr>\n",
       "      <th>killed</th>\n",
       "      <td>5.890349</td>\n",
       "    </tr>\n",
       "    <tr>\n",
       "      <th>possible</th>\n",
       "      <td>5.890349</td>\n",
       "    </tr>\n",
       "    <tr>\n",
       "      <th>big</th>\n",
       "      <td>5.890349</td>\n",
       "    </tr>\n",
       "    <tr>\n",
       "      <th>match</th>\n",
       "      <td>5.890349</td>\n",
       "    </tr>\n",
       "    <tr>\n",
       "      <th>hat</th>\n",
       "      <td>5.890349</td>\n",
       "    </tr>\n",
       "    <tr>\n",
       "      <th>offers</th>\n",
       "      <td>5.890349</td>\n",
       "    </tr>\n",
       "    <tr>\n",
       "      <th>day</th>\n",
       "      <td>5.890349</td>\n",
       "    </tr>\n",
       "  </tbody>\n",
       "</table>\n",
       "</div>"
      ],
      "text/plain": [
       "                tfidf\n",
       "mp           5.890349\n",
       "sign         5.890349\n",
       "david        5.890349\n",
       "biggest      5.890349\n",
       "iphone       5.890349\n",
       "head         5.890349\n",
       "buy          5.890349\n",
       "taking       5.890349\n",
       "trick        5.890349\n",
       "antarctica   5.890349\n",
       "russian      5.890349\n",
       "time warner  5.890349\n",
       "seeks        5.890349\n",
       "trump says   5.890349\n",
       "uk           5.890349\n",
       "tell         5.890349\n",
       "white house  5.890349\n",
       "ps           5.890349\n",
       "crisis       5.890349\n",
       "let          5.890349\n",
       "border       5.890349\n",
       "kids         5.890349\n",
       "search       5.890349\n",
       "bidding war  5.890349\n",
       "week         5.890349\n",
       "fight        5.890349\n",
       "revealed     5.890349\n",
       "response     5.890349\n",
       "hat trick    5.890349\n",
       "warner       5.890349\n",
       "year old     5.890349\n",
       "stranger     5.890349\n",
       "director     5.890349\n",
       "killed       5.890349\n",
       "possible     5.890349\n",
       "big          5.890349\n",
       "match        5.890349\n",
       "hat          5.890349\n",
       "offers       5.890349\n",
       "day          5.890349"
      ]
     },
     "execution_count": 145,
     "metadata": {},
     "output_type": "execute_result"
    }
   ],
   "source": [
    "tfidf.sort_values(by=['tfidf'], ascending=False).head(40)"
   ]
  },
  {
   "cell_type": "code",
   "execution_count": 146,
   "metadata": {},
   "outputs": [
    {
     "data": {
      "text/plain": [
       "(797L, 50L)"
      ]
     },
     "execution_count": 146,
     "metadata": {},
     "output_type": "execute_result"
    }
   ],
   "source": [
    "from sklearn.decomposition import TruncatedSVD\n",
    "svd = TruncatedSVD(n_components=50, random_state=0)\n",
    "svd_tfidf = svd.fit_transform(vz)\n",
    "\n",
    "svd_tfidf.shape"
   ]
  },
  {
   "cell_type": "code",
   "execution_count": 148,
   "metadata": {},
   "outputs": [
    {
     "name": "stdout",
     "output_type": "stream",
     "text": [
      "[t-SNE] Computing 91 nearest neighbors...\n",
      "[t-SNE] Indexed 797 samples in 0.002s...\n",
      "[t-SNE] Computed neighbors for 797 samples in 0.119s...\n",
      "[t-SNE] Computed conditional probabilities for sample 797 / 797\n",
      "[t-SNE] Mean sigma: 0.000000\n",
      "[t-SNE] KL divergence after 250 iterations with early exaggeration: 71.400665\n",
      "[t-SNE] Error after 500 iterations: 0.717697\n",
      "(797L, 2L)\n"
     ]
    }
   ],
   "source": [
    "run = True\n",
    "if run:\n",
    "# run this (takes times)\n",
    "    from sklearn.manifold import TSNE\n",
    "    tsne_model = TSNE(n_components=2, verbose=1, random_state=0, n_iter=500)\n",
    "    tsne_tfidf = tsne_model.fit_transform(svd_tfidf)\n",
    "    print(tsne_tfidf.shape)\n",
    "    tsne_tfidf_df = pd.DataFrame(tsne_tfidf)\n",
    "    tsne_tfidf_df.columns = ['x', 'y']\n",
    "    tsne_tfidf_df['category'] = data['category']\n",
    "    tsne_tfidf_df['title'] = data['title']\n",
    "    tsne_tfidf_df.to_csv('./data/tsne_tfidf.csv', encoding='utf-8', index=False)\n",
    "else:\n",
    "# or import the dataset directly\n",
    "    tsne_tfidf_df = pd.read_csv('./data/tsne_tfidf.csv')"
   ]
  },
  {
   "cell_type": "code",
   "execution_count": 149,
   "metadata": {},
   "outputs": [
    {
     "data": {
      "text/plain": [
       "(797, 4)"
      ]
     },
     "execution_count": 149,
     "metadata": {},
     "output_type": "execute_result"
    }
   ],
   "source": [
    "tsne_tfidf_df.fillna(\"Undefined\",inplace=True)\n",
    "tsne_tfidf_df.shape"
   ]
  },
  {
   "cell_type": "code",
   "execution_count": 150,
   "metadata": {
    "collapsed": true
   },
   "outputs": [],
   "source": [
    "import bokeh.plotting as bp\n",
    "from bokeh.models import ColumnDataSource\n",
    "from bokeh.models import HoverTool, BoxSelectTool\n",
    "from bokeh.plotting import figure, show, output_notebook, reset_output\n",
    "from bokeh.palettes import d3\n",
    "import bokeh.models as bmo\n",
    "from bokeh.io import save, output_file"
   ]
  },
  {
   "cell_type": "code",
   "execution_count": 152,
   "metadata": {},
   "outputs": [
    {
     "data": {
      "text/html": [
       "\n",
       "    <div class=\"bk-root\">\n",
       "        <a href=\"https://bokeh.pydata.org\" target=\"_blank\" class=\"bk-logo bk-logo-small bk-logo-notebook\"></a>\n",
       "        <span id=\"0ed5ef2b-de92-48f8-993c-757fb5c3520d\">Loading BokehJS ...</span>\n",
       "    </div>"
      ]
     },
     "metadata": {},
     "output_type": "display_data"
    },
    {
     "data": {
      "application/javascript": [
       "\n",
       "(function(root) {\n",
       "  function now() {\n",
       "    return new Date();\n",
       "  }\n",
       "\n",
       "  var force = true;\n",
       "\n",
       "  if (typeof (root._bokeh_onload_callbacks) === \"undefined\" || force === true) {\n",
       "    root._bokeh_onload_callbacks = [];\n",
       "    root._bokeh_is_loading = undefined;\n",
       "  }\n",
       "\n",
       "  var JS_MIME_TYPE = 'application/javascript';\n",
       "  var HTML_MIME_TYPE = 'text/html';\n",
       "  var EXEC_MIME_TYPE = 'application/vnd.bokehjs_exec.v0+json';\n",
       "  var CLASS_NAME = 'output_bokeh rendered_html';\n",
       "\n",
       "  /**\n",
       "   * Render data to the DOM node\n",
       "   */\n",
       "  function render(props, node) {\n",
       "    var script = document.createElement(\"script\");\n",
       "    node.appendChild(script);\n",
       "  }\n",
       "\n",
       "  /**\n",
       "   * Handle when an output is cleared or removed\n",
       "   */\n",
       "  function handleClearOutput(event, handle) {\n",
       "    var cell = handle.cell;\n",
       "\n",
       "    var id = cell.output_area._bokeh_element_id;\n",
       "    var server_id = cell.output_area._bokeh_server_id;\n",
       "    // Clean up Bokeh references\n",
       "    if (id !== undefined) {\n",
       "      Bokeh.index[id].model.document.clear();\n",
       "      delete Bokeh.index[id];\n",
       "    }\n",
       "\n",
       "    if (server_id !== undefined) {\n",
       "      // Clean up Bokeh references\n",
       "      var cmd = \"from bokeh.io.state import curstate; print(curstate().uuid_to_server['\" + server_id + \"'].get_sessions()[0].document.roots[0]._id)\";\n",
       "      cell.notebook.kernel.execute(cmd, {\n",
       "        iopub: {\n",
       "          output: function(msg) {\n",
       "            var element_id = msg.content.text.trim();\n",
       "            Bokeh.index[element_id].model.document.clear();\n",
       "            delete Bokeh.index[element_id];\n",
       "          }\n",
       "        }\n",
       "      });\n",
       "      // Destroy server and session\n",
       "      var cmd = \"import bokeh.io.notebook as ion; ion.destroy_server('\" + server_id + \"')\";\n",
       "      cell.notebook.kernel.execute(cmd);\n",
       "    }\n",
       "  }\n",
       "\n",
       "  /**\n",
       "   * Handle when a new output is added\n",
       "   */\n",
       "  function handleAddOutput(event, handle) {\n",
       "    var output_area = handle.output_area;\n",
       "    var output = handle.output;\n",
       "\n",
       "    // limit handleAddOutput to display_data with EXEC_MIME_TYPE content only\n",
       "    if ((output.output_type != \"display_data\") || (!output.data.hasOwnProperty(EXEC_MIME_TYPE))) {\n",
       "      return\n",
       "    }\n",
       "\n",
       "    var toinsert = output_area.element.find(`.${CLASS_NAME.split(' ')[0]}`);\n",
       "\n",
       "    if (output.metadata[EXEC_MIME_TYPE][\"id\"] !== undefined) {\n",
       "      toinsert[0].firstChild.textContent = output.data[JS_MIME_TYPE];\n",
       "      // store reference to embed id on output_area\n",
       "      output_area._bokeh_element_id = output.metadata[EXEC_MIME_TYPE][\"id\"];\n",
       "    }\n",
       "    if (output.metadata[EXEC_MIME_TYPE][\"server_id\"] !== undefined) {\n",
       "      var bk_div = document.createElement(\"div\");\n",
       "      bk_div.innerHTML = output.data[HTML_MIME_TYPE];\n",
       "      var script_attrs = bk_div.children[0].attributes;\n",
       "      for (var i = 0; i < script_attrs.length; i++) {\n",
       "        toinsert[0].firstChild.setAttribute(script_attrs[i].name, script_attrs[i].value);\n",
       "      }\n",
       "      // store reference to server id on output_area\n",
       "      output_area._bokeh_server_id = output.metadata[EXEC_MIME_TYPE][\"server_id\"];\n",
       "    }\n",
       "  }\n",
       "\n",
       "  function register_renderer(events, OutputArea) {\n",
       "\n",
       "    function append_mime(data, metadata, element) {\n",
       "      // create a DOM node to render to\n",
       "      var toinsert = this.create_output_subarea(\n",
       "        metadata,\n",
       "        CLASS_NAME,\n",
       "        EXEC_MIME_TYPE\n",
       "      );\n",
       "      this.keyboard_manager.register_events(toinsert);\n",
       "      // Render to node\n",
       "      var props = {data: data, metadata: metadata[EXEC_MIME_TYPE]};\n",
       "      render(props, toinsert[0]);\n",
       "      element.append(toinsert);\n",
       "      return toinsert\n",
       "    }\n",
       "\n",
       "    /* Handle when an output is cleared or removed */\n",
       "    events.on('clear_output.CodeCell', handleClearOutput);\n",
       "    events.on('delete.Cell', handleClearOutput);\n",
       "\n",
       "    /* Handle when a new output is added */\n",
       "    events.on('output_added.OutputArea', handleAddOutput);\n",
       "\n",
       "    /**\n",
       "     * Register the mime type and append_mime function with output_area\n",
       "     */\n",
       "    OutputArea.prototype.register_mime_type(EXEC_MIME_TYPE, append_mime, {\n",
       "      /* Is output safe? */\n",
       "      safe: true,\n",
       "      /* Index of renderer in `output_area.display_order` */\n",
       "      index: 0\n",
       "    });\n",
       "  }\n",
       "\n",
       "  // register the mime type if in Jupyter Notebook environment and previously unregistered\n",
       "  if (root.Jupyter !== undefined) {\n",
       "    var events = require('base/js/events');\n",
       "    var OutputArea = require('notebook/js/outputarea').OutputArea;\n",
       "\n",
       "    if (OutputArea.prototype.mime_types().indexOf(EXEC_MIME_TYPE) == -1) {\n",
       "      register_renderer(events, OutputArea);\n",
       "    }\n",
       "  }\n",
       "\n",
       "  \n",
       "  if (typeof (root._bokeh_timeout) === \"undefined\" || force === true) {\n",
       "    root._bokeh_timeout = Date.now() + 5000;\n",
       "    root._bokeh_failed_load = false;\n",
       "  }\n",
       "\n",
       "  var NB_LOAD_WARNING = {'data': {'text/html':\n",
       "     \"<div style='background-color: #fdd'>\\n\"+\n",
       "     \"<p>\\n\"+\n",
       "     \"BokehJS does not appear to have successfully loaded. If loading BokehJS from CDN, this \\n\"+\n",
       "     \"may be due to a slow or bad network connection. Possible fixes:\\n\"+\n",
       "     \"</p>\\n\"+\n",
       "     \"<ul>\\n\"+\n",
       "     \"<li>re-rerun `output_notebook()` to attempt to load from CDN again, or</li>\\n\"+\n",
       "     \"<li>use INLINE resources instead, as so:</li>\\n\"+\n",
       "     \"</ul>\\n\"+\n",
       "     \"<code>\\n\"+\n",
       "     \"from bokeh.resources import INLINE\\n\"+\n",
       "     \"output_notebook(resources=INLINE)\\n\"+\n",
       "     \"</code>\\n\"+\n",
       "     \"</div>\"}};\n",
       "\n",
       "  function display_loaded() {\n",
       "    var el = document.getElementById(\"0ed5ef2b-de92-48f8-993c-757fb5c3520d\");\n",
       "    if (el != null) {\n",
       "      el.textContent = \"BokehJS is loading...\";\n",
       "    }\n",
       "    if (root.Bokeh !== undefined) {\n",
       "      if (el != null) {\n",
       "        el.textContent = \"BokehJS \" + root.Bokeh.version + \" successfully loaded.\";\n",
       "      }\n",
       "    } else if (Date.now() < root._bokeh_timeout) {\n",
       "      setTimeout(display_loaded, 100)\n",
       "    }\n",
       "  }\n",
       "\n",
       "\n",
       "  function run_callbacks() {\n",
       "    try {\n",
       "      root._bokeh_onload_callbacks.forEach(function(callback) { callback() });\n",
       "    }\n",
       "    finally {\n",
       "      delete root._bokeh_onload_callbacks\n",
       "    }\n",
       "    console.info(\"Bokeh: all callbacks have finished\");\n",
       "  }\n",
       "\n",
       "  function load_libs(js_urls, callback) {\n",
       "    root._bokeh_onload_callbacks.push(callback);\n",
       "    if (root._bokeh_is_loading > 0) {\n",
       "      console.log(\"Bokeh: BokehJS is being loaded, scheduling callback at\", now());\n",
       "      return null;\n",
       "    }\n",
       "    if (js_urls == null || js_urls.length === 0) {\n",
       "      run_callbacks();\n",
       "      return null;\n",
       "    }\n",
       "    console.log(\"Bokeh: BokehJS not loaded, scheduling load and callback at\", now());\n",
       "    root._bokeh_is_loading = js_urls.length;\n",
       "    for (var i = 0; i < js_urls.length; i++) {\n",
       "      var url = js_urls[i];\n",
       "      var s = document.createElement('script');\n",
       "      s.src = url;\n",
       "      s.async = false;\n",
       "      s.onreadystatechange = s.onload = function() {\n",
       "        root._bokeh_is_loading--;\n",
       "        if (root._bokeh_is_loading === 0) {\n",
       "          console.log(\"Bokeh: all BokehJS libraries loaded\");\n",
       "          run_callbacks()\n",
       "        }\n",
       "      };\n",
       "      s.onerror = function() {\n",
       "        console.warn(\"failed to load library \" + url);\n",
       "      };\n",
       "      console.log(\"Bokeh: injecting script tag for BokehJS library: \", url);\n",
       "      document.getElementsByTagName(\"head\")[0].appendChild(s);\n",
       "    }\n",
       "  };var element = document.getElementById(\"0ed5ef2b-de92-48f8-993c-757fb5c3520d\");\n",
       "  if (element == null) {\n",
       "    console.log(\"Bokeh: ERROR: autoload.js configured with elementid '0ed5ef2b-de92-48f8-993c-757fb5c3520d' but no matching script tag was found. \")\n",
       "    return false;\n",
       "  }\n",
       "\n",
       "  var js_urls = [\"https://cdn.pydata.org/bokeh/release/bokeh-0.12.10.min.js\", \"https://cdn.pydata.org/bokeh/release/bokeh-widgets-0.12.10.min.js\", \"https://cdn.pydata.org/bokeh/release/bokeh-tables-0.12.10.min.js\", \"https://cdn.pydata.org/bokeh/release/bokeh-gl-0.12.10.min.js\"];\n",
       "\n",
       "  var inline_js = [\n",
       "    function(Bokeh) {\n",
       "      Bokeh.set_log_level(\"info\");\n",
       "    },\n",
       "    \n",
       "    function(Bokeh) {\n",
       "      \n",
       "    },\n",
       "    function(Bokeh) {\n",
       "      console.log(\"Bokeh: injecting CSS: https://cdn.pydata.org/bokeh/release/bokeh-0.12.10.min.css\");\n",
       "      Bokeh.embed.inject_css(\"https://cdn.pydata.org/bokeh/release/bokeh-0.12.10.min.css\");\n",
       "      console.log(\"Bokeh: injecting CSS: https://cdn.pydata.org/bokeh/release/bokeh-widgets-0.12.10.min.css\");\n",
       "      Bokeh.embed.inject_css(\"https://cdn.pydata.org/bokeh/release/bokeh-widgets-0.12.10.min.css\");\n",
       "      console.log(\"Bokeh: injecting CSS: https://cdn.pydata.org/bokeh/release/bokeh-tables-0.12.10.min.css\");\n",
       "      Bokeh.embed.inject_css(\"https://cdn.pydata.org/bokeh/release/bokeh-tables-0.12.10.min.css\");\n",
       "    }\n",
       "  ];\n",
       "\n",
       "  function run_inline_js() {\n",
       "    \n",
       "    if ((root.Bokeh !== undefined) || (force === true)) {\n",
       "      for (var i = 0; i < inline_js.length; i++) {\n",
       "        inline_js[i].call(root, root.Bokeh);\n",
       "      }if (force === true) {\n",
       "        display_loaded();\n",
       "      }} else if (Date.now() < root._bokeh_timeout) {\n",
       "      setTimeout(run_inline_js, 100);\n",
       "    } else if (!root._bokeh_failed_load) {\n",
       "      console.log(\"Bokeh: BokehJS failed to load within specified timeout.\");\n",
       "      root._bokeh_failed_load = true;\n",
       "    } else if (force !== true) {\n",
       "      var cell = $(document.getElementById(\"0ed5ef2b-de92-48f8-993c-757fb5c3520d\")).parents('.cell').data().cell;\n",
       "      cell.output_area.append_execute_result(NB_LOAD_WARNING)\n",
       "    }\n",
       "\n",
       "  }\n",
       "\n",
       "  if (root._bokeh_is_loading === 0) {\n",
       "    console.log(\"Bokeh: BokehJS loaded, going straight to plotting\");\n",
       "    run_inline_js();\n",
       "  } else {\n",
       "    load_libs(js_urls, function() {\n",
       "      console.log(\"Bokeh: BokehJS plotting callback run at\", now());\n",
       "      run_inline_js();\n",
       "    });\n",
       "  }\n",
       "}(window));"
      ],
      "application/vnd.bokehjs_load.v0+json": "\n(function(root) {\n  function now() {\n    return new Date();\n  }\n\n  var force = true;\n\n  if (typeof (root._bokeh_onload_callbacks) === \"undefined\" || force === true) {\n    root._bokeh_onload_callbacks = [];\n    root._bokeh_is_loading = undefined;\n  }\n\n  \n\n  \n  if (typeof (root._bokeh_timeout) === \"undefined\" || force === true) {\n    root._bokeh_timeout = Date.now() + 5000;\n    root._bokeh_failed_load = false;\n  }\n\n  var NB_LOAD_WARNING = {'data': {'text/html':\n     \"<div style='background-color: #fdd'>\\n\"+\n     \"<p>\\n\"+\n     \"BokehJS does not appear to have successfully loaded. If loading BokehJS from CDN, this \\n\"+\n     \"may be due to a slow or bad network connection. Possible fixes:\\n\"+\n     \"</p>\\n\"+\n     \"<ul>\\n\"+\n     \"<li>re-rerun `output_notebook()` to attempt to load from CDN again, or</li>\\n\"+\n     \"<li>use INLINE resources instead, as so:</li>\\n\"+\n     \"</ul>\\n\"+\n     \"<code>\\n\"+\n     \"from bokeh.resources import INLINE\\n\"+\n     \"output_notebook(resources=INLINE)\\n\"+\n     \"</code>\\n\"+\n     \"</div>\"}};\n\n  function display_loaded() {\n    var el = document.getElementById(\"0ed5ef2b-de92-48f8-993c-757fb5c3520d\");\n    if (el != null) {\n      el.textContent = \"BokehJS is loading...\";\n    }\n    if (root.Bokeh !== undefined) {\n      if (el != null) {\n        el.textContent = \"BokehJS \" + root.Bokeh.version + \" successfully loaded.\";\n      }\n    } else if (Date.now() < root._bokeh_timeout) {\n      setTimeout(display_loaded, 100)\n    }\n  }\n\n\n  function run_callbacks() {\n    try {\n      root._bokeh_onload_callbacks.forEach(function(callback) { callback() });\n    }\n    finally {\n      delete root._bokeh_onload_callbacks\n    }\n    console.info(\"Bokeh: all callbacks have finished\");\n  }\n\n  function load_libs(js_urls, callback) {\n    root._bokeh_onload_callbacks.push(callback);\n    if (root._bokeh_is_loading > 0) {\n      console.log(\"Bokeh: BokehJS is being loaded, scheduling callback at\", now());\n      return null;\n    }\n    if (js_urls == null || js_urls.length === 0) {\n      run_callbacks();\n      return null;\n    }\n    console.log(\"Bokeh: BokehJS not loaded, scheduling load and callback at\", now());\n    root._bokeh_is_loading = js_urls.length;\n    for (var i = 0; i < js_urls.length; i++) {\n      var url = js_urls[i];\n      var s = document.createElement('script');\n      s.src = url;\n      s.async = false;\n      s.onreadystatechange = s.onload = function() {\n        root._bokeh_is_loading--;\n        if (root._bokeh_is_loading === 0) {\n          console.log(\"Bokeh: all BokehJS libraries loaded\");\n          run_callbacks()\n        }\n      };\n      s.onerror = function() {\n        console.warn(\"failed to load library \" + url);\n      };\n      console.log(\"Bokeh: injecting script tag for BokehJS library: \", url);\n      document.getElementsByTagName(\"head\")[0].appendChild(s);\n    }\n  };var element = document.getElementById(\"0ed5ef2b-de92-48f8-993c-757fb5c3520d\");\n  if (element == null) {\n    console.log(\"Bokeh: ERROR: autoload.js configured with elementid '0ed5ef2b-de92-48f8-993c-757fb5c3520d' but no matching script tag was found. \")\n    return false;\n  }\n\n  var js_urls = [\"https://cdn.pydata.org/bokeh/release/bokeh-0.12.10.min.js\", \"https://cdn.pydata.org/bokeh/release/bokeh-widgets-0.12.10.min.js\", \"https://cdn.pydata.org/bokeh/release/bokeh-tables-0.12.10.min.js\", \"https://cdn.pydata.org/bokeh/release/bokeh-gl-0.12.10.min.js\"];\n\n  var inline_js = [\n    function(Bokeh) {\n      Bokeh.set_log_level(\"info\");\n    },\n    \n    function(Bokeh) {\n      \n    },\n    function(Bokeh) {\n      console.log(\"Bokeh: injecting CSS: https://cdn.pydata.org/bokeh/release/bokeh-0.12.10.min.css\");\n      Bokeh.embed.inject_css(\"https://cdn.pydata.org/bokeh/release/bokeh-0.12.10.min.css\");\n      console.log(\"Bokeh: injecting CSS: https://cdn.pydata.org/bokeh/release/bokeh-widgets-0.12.10.min.css\");\n      Bokeh.embed.inject_css(\"https://cdn.pydata.org/bokeh/release/bokeh-widgets-0.12.10.min.css\");\n      console.log(\"Bokeh: injecting CSS: https://cdn.pydata.org/bokeh/release/bokeh-tables-0.12.10.min.css\");\n      Bokeh.embed.inject_css(\"https://cdn.pydata.org/bokeh/release/bokeh-tables-0.12.10.min.css\");\n    }\n  ];\n\n  function run_inline_js() {\n    \n    if ((root.Bokeh !== undefined) || (force === true)) {\n      for (var i = 0; i < inline_js.length; i++) {\n        inline_js[i].call(root, root.Bokeh);\n      }if (force === true) {\n        display_loaded();\n      }} else if (Date.now() < root._bokeh_timeout) {\n      setTimeout(run_inline_js, 100);\n    } else if (!root._bokeh_failed_load) {\n      console.log(\"Bokeh: BokehJS failed to load within specified timeout.\");\n      root._bokeh_failed_load = true;\n    } else if (force !== true) {\n      var cell = $(document.getElementById(\"0ed5ef2b-de92-48f8-993c-757fb5c3520d\")).parents('.cell').data().cell;\n      cell.output_area.append_execute_result(NB_LOAD_WARNING)\n    }\n\n  }\n\n  if (root._bokeh_is_loading === 0) {\n    console.log(\"Bokeh: BokehJS loaded, going straight to plotting\");\n    run_inline_js();\n  } else {\n    load_libs(js_urls, function() {\n      console.log(\"Bokeh: BokehJS plotting callback run at\", now());\n      run_inline_js();\n    });\n  }\n}(window));"
     },
     "metadata": {},
     "output_type": "display_data"
    },
    {
     "data": {
      "text/html": [
       "\n",
       "<div class=\"bk-root\">\n",
       "    <div class=\"bk-plotdiv\" id=\"93193931-d849-4f06-a740-025840f69b60\"></div>\n",
       "</div>"
      ]
     },
     "metadata": {},
     "output_type": "display_data"
    },
    {
     "data": {
      "application/javascript": [
       "(function(root) {\n",
       "  function embed_document(root) {\n",
       "    var docs_json = {\"96c5729f-ec9c-4844-826f-777422b1f47b\":{\"roots\":{\"references\":[{\"attributes\":{\"fill_alpha\":{\"value\":0.1},\"fill_color\":{\"value\":\"#1f77b4\"},\"line_alpha\":{\"value\":0.1},\"line_color\":{\"value\":\"#1f77b4\"},\"x\":{\"field\":\"x\"},\"y\":{\"field\":\"y\"}},\"id\":\"fd150942-8237-40aa-ba44-8c6009250435\",\"type\":\"Circle\"},{\"attributes\":{},\"id\":\"1ecf7699-e111-4309-86ea-60eeeb9a2fc0\",\"type\":\"LinearScale\"},{\"attributes\":{\"fill_color\":{\"field\":\"category\",\"transform\":{\"id\":\"4dc0a022-af56-4218-834b-7c986338e67e\",\"type\":\"CategoricalColorMapper\"}},\"line_color\":{\"field\":\"category\",\"transform\":{\"id\":\"4dc0a022-af56-4218-834b-7c986338e67e\",\"type\":\"CategoricalColorMapper\"}},\"x\":{\"field\":\"x\"},\"y\":{\"field\":\"y\"}},\"id\":\"a7c66611-a960-4543-9cdb-87f66984f87f\",\"type\":\"Circle\"},{\"attributes\":{\"min_border\":1,\"plot_width\":700,\"renderers\":[{\"id\":\"242e00ea-1fa1-4ea3-b7c6-25e9a09ce2e8\",\"type\":\"BoxAnnotation\"},{\"id\":\"5ace9590-1ab2-4b2f-a325-8da311d60073\",\"type\":\"Legend\"},{\"id\":\"034554ec-4956-447a-ad0f-053174cd26f9\",\"type\":\"GlyphRenderer\"}],\"title\":{\"id\":\"8941b2e6-fa66-4e82-b897-a7b4cc99ea90\",\"type\":\"Title\"},\"toolbar\":{\"id\":\"7692ed85-f0aa-4856-92e0-82842bbf9403\",\"type\":\"Toolbar\"},\"x_range\":{\"id\":\"a4a0b893-45c6-419e-bae9-50d118cbc952\",\"type\":\"DataRange1d\"},\"x_scale\":{\"id\":\"954a9da6-af8d-4e7b-b534-de1780ec48cf\",\"type\":\"LinearScale\"},\"y_range\":{\"id\":\"73efc577-72e8-43da-a039-689cebe2f75e\",\"type\":\"DataRange1d\"},\"y_scale\":{\"id\":\"1ecf7699-e111-4309-86ea-60eeeb9a2fc0\",\"type\":\"LinearScale\"}},\"id\":\"39b676cb-ad73-456a-a96f-74708d401f21\",\"subtype\":\"Figure\",\"type\":\"Plot\"},{\"attributes\":{},\"id\":\"083b4fb4-9ec8-40c5-94d1-9afff656fcb3\",\"type\":\"PanTool\"},{\"attributes\":{\"callback\":null,\"column_names\":[\"y\",\"x\",\"category\",\"index\",\"title\"],\"data\":{\"category\":[\"general\",\"general\",\"general\",\"general\",\"general\",\"general\",\"general\",\"technology\",\"technology\",\"technology\",\"technology\",\"technology\",\"technology\",\"technology\",\"general\",\"general\",\"general\",\"general\",\"general\",\"general\",\"sports\",\"sports\",\"sports\",\"sports\",\"sports\",\"sports\",\"business\",\"business\",\"business\",\"business\",\"business\",\"business\",\"business\",\"business\",\"business\",\"business\",\"business\",\"business\",\"business\",\"business\",\"business\",\"business\",\"business\",\"business\",\"business\",\"business\",\"business\",\"entertainment\",\"entertainment\",\"entertainment\",\"entertainment\",\"entertainment\",\"entertainment\",\"entertainment\",\"entertainment\",\"entertainment\",\"entertainment\",\"business\",\"business\",\"business\",\"business\",\"business\",\"business\",\"business\",\"business\",\"general\",\"general\",\"entertainment\",\"entertainment\",\"entertainment\",\"technology\",\"technology\",\"technology\",\"entertainment\",\"entertainment\",\"entertainment\",\"entertainment\",\"entertainment\",\"entertainment\",\"entertainment\",\"entertainment\",\"entertainment\",\"sports\",\"business\",\"business\",\"business\",\"business\",\"business\",\"business\",\"business\",\"sports\",\"sports\",\"sports\",\"sports\",\"sports\",\"general\",\"general\",\"general\",\"general\",\"general\",\"general\",\"technology\",\"technology\",\"entertainment\",\"entertainment\",\"entertainment\",\"general\",\"general\",\"general\",\"general\",\"general\",\"general\",\"general\",\"entertainment\",\"entertainment\",\"entertainment\",\"entertainment\",\"entertainment\",\"entertainment\",\"entertainment\",\"general\",\"general\",\"general\",\"general\",\"general\",\"general\",\"general\",\"general\",\"general\",\"general\",\"general\",\"general\",\"general\",\"general\",\"general\",\"general\",\"general\",\"general\",\"general\",\"entertainment\",\"entertainment\",\"entertainment\",\"entertainment\",\"entertainment\",\"entertainment\",\"entertainment\",\"entertainment\",\"entertainment\",\"science\",\"science\",\"science\",\"science\",\"science\",\"general\",\"general\",\"general\",\"general\",\"general\",\"general\",\"general\",\"general\",\"general\",\"general\",\"general\",\"general\",\"general\",\"general\",\"general\",\"sports\",\"entertainment\",\"entertainment\",\"entertainment\",\"entertainment\",\"entertainment\",\"entertainment\",\"entertainment\",\"technology\",\"technology\",\"technology\",\"technology\",\"technology\",\"technology\",\"technology\",\"general\",\"general\",\"general\",\"general\",\"general\",\"general\",\"general\",\"general\",\"general\",\"general\",\"general\",\"sports\",\"sports\",\"sports\",\"sports\",\"sports\",\"sports\",\"sports\",\"sports\",\"sports\",\"technology\",\"technology\",\"technology\",\"technology\",\"technology\",\"technology\",\"technology\",\"technology\",\"technology\",\"technology\",\"technology\",\"technology\",\"technology\",\"technology\",\"business\",\"business\",\"business\",\"business\",\"business\",\"general\",\"general\",\"general\",\"general\",\"general\",\"general\",\"general\",\"general\",\"general\",\"general\",\"general\",\"general\",\"general\",\"general\",\"general\",\"general\",\"entertainment\",\"entertainment\",\"entertainment\",\"entertainment\",\"entertainment\",\"entertainment\",\"general\",\"general\",\"general\",\"general\",\"technology\",\"technology\",\"technology\",\"technology\",\"technology\",\"technology\",\"technology\",\"technology\",\"sports\",\"sports\",\"sports\",\"sports\",\"sports\",\"sports\",\"sports\",\"sports\",\"general\",\"general\",\"general\",\"general\",\"general\",\"technology\",\"technology\",\"technology\",\"technology\",\"technology\",\"technology\",\"technology\",\"business\",\"business\",\"business\",\"business\",\"business\",\"business\",\"business\",\"general\",\"general\",\"general\",\"general\",\"general\",\"general\",\"general\",\"general\",\"general\",\"general\",\"general\",\"general\",\"general\",\"general\",\"general\",\"general\",\"general\",\"general\",\"general\",\"general\",\"general\",\"technology\",\"technology\",\"technology\",\"technology\",\"technology\",\"technology\",\"technology\",\"general\",\"general\",\"general\",\"general\",\"sports\",\"sports\",\"sports\",\"sports\",\"sports\",\"sports\",\"sports\",\"sports\",\"sports\",\"business\",\"business\",\"business\",\"business\",\"business\",\"business\",\"business\",\"business\",\"business\",\"business\",\"business\",\"business\",\"business\",\"business\",\"business\",\"business\",\"business\",\"business\",\"business\",\"business\",\"business\",\"business\",\"entertainment\",\"entertainment\",\"entertainment\",\"entertainment\",\"entertainment\",\"entertainment\",\"entertainment\",\"business\",\"business\",\"business\",\"business\",\"business\",\"business\",\"business\",\"business\",\"business\",\"business\",\"general\",\"general\",\"general\",\"entertainment\",\"entertainment\",\"entertainment\",\"entertainment\",\"entertainment\",\"entertainment\",\"entertainment\",\"technology\",\"entertainment\",\"entertainment\",\"entertainment\",\"entertainment\",\"entertainment\",\"entertainment\",\"entertainment\",\"entertainment\",\"sports\",\"business\",\"business\",\"business\",\"business\",\"business\",\"sports\",\"sports\",\"sports\",\"sports\",\"general\",\"general\",\"general\",\"general\",\"general\",\"general\",\"general\",\"general\",\"entertainment\",\"entertainment\",\"entertainment\",\"entertainment\",\"entertainment\",\"entertainment\",\"general\",\"general\",\"general\",\"general\",\"general\",\"general\",\"general\",\"general\",\"general\",\"entertainment\",\"entertainment\",\"entertainment\",\"entertainment\",\"entertainment\",\"entertainment\",\"entertainment\",\"general\",\"general\",\"general\",\"general\",\"general\",\"general\",\"general\",\"general\",\"general\",\"general\",\"general\",\"general\",\"general\",\"general\",\"general\",\"general\",\"general\",\"science\",\"science\",\"science\",\"general\",\"general\",\"general\",\"general\",\"general\",\"general\",\"general\",\"general\",\"general\",\"general\",\"general\",\"entertainment\",\"entertainment\",\"entertainment\",\"entertainment\",\"entertainment\",\"entertainment\",\"technology\",\"technology\",\"technology\",\"general\",\"general\",\"general\",\"general\",\"general\",\"general\",\"general\",\"technology\",\"technology\",\"technology\",\"technology\",\"technology\",\"technology\",\"technology\",\"technology\",\"business\",\"business\",\"business\",\"business\",\"general\",\"general\",\"general\",\"general\",\"general\",\"general\",\"general\",\"general\",\"general\",\"general\",\"general\",\"general\",\"general\",\"general\",\"general\",\"general\",\"general\",\"general\",\"general\",\"general\",\"general\",\"general\",\"general\",\"entertainment\",\"entertainment\",\"entertainment\",\"entertainment\",\"general\",\"general\",\"general\",\"technology\",\"technology\",\"technology\",\"technology\",\"technology\",\"sports\",\"sports\",\"sports\",\"sports\",\"sports\",\"sports\",\"general\",\"general\",\"general\",\"technology\",\"technology\",\"technology\",\"technology\",\"business\",\"business\",\"business\",\"business\",\"business\",\"business\",\"business\",\"general\",\"general\",\"general\",\"general\",\"general\",\"general\",\"general\",\"general\",\"general\",\"general\",\"general\",\"general\",\"general\",\"general\",\"technology\",\"technology\",\"technology\",\"technology\",\"technology\",\"technology\",\"general\",\"general\",\"general\",\"general\",\"sports\",\"sports\",\"sports\",\"sports\",\"sports\",\"sports\",\"sports\",\"business\",\"business\",\"business\",\"business\",\"business\",\"business\",\"business\",\"business\",\"business\",\"business\",\"business\",\"business\",\"business\",\"business\",\"business\",\"business\",\"entertainment\",\"entertainment\",\"entertainment\",\"entertainment\",\"entertainment\",\"entertainment\",\"entertainment\",\"business\",\"business\",\"business\",\"business\",\"business\",\"business\",\"business\",\"business\",\"business\",\"general\",\"general\",\"general\",\"entertainment\",\"entertainment\",\"entertainment\",\"entertainment\",\"entertainment\",\"entertainment\",\"entertainment\",\"entertainment\",\"technology\",\"technology\",\"entertainment\",\"entertainment\",\"entertainment\",\"entertainment\",\"entertainment\",\"entertainment\",\"entertainment\",\"sports\",\"business\",\"business\",\"business\",\"business\",\"business\",\"business\",\"sports\",\"sports\",\"sports\",\"sports\",\"sports\",\"sports\",\"general\",\"general\",\"general\",\"general\",\"general\",\"general\",\"entertainment\",\"entertainment\",\"entertainment\",\"entertainment\",\"entertainment\",\"entertainment\",\"entertainment\",\"entertainment\",\"general\",\"general\",\"general\",\"general\",\"general\",\"general\",\"general\",\"entertainment\",\"entertainment\",\"entertainment\",\"entertainment\",\"general\",\"general\",\"general\",\"general\",\"general\",\"general\",\"general\",\"general\",\"general\",\"general\",\"general\",\"general\",\"general\",\"general\",\"general\",\"general\",\"general\",\"general\",\"entertainment\",\"entertainment\",\"entertainment\",\"entertainment\",\"entertainment\",\"science\",\"science\",\"science\",\"general\",\"general\",\"general\",\"general\",\"general\",\"general\",\"general\",\"general\",\"general\",\"general\",\"general\",\"general\",\"general\",\"sports\",\"sports\",\"entertainment\",\"entertainment\",\"entertainment\",\"entertainment\",\"entertainment\",\"entertainment\",\"entertainment\",\"technology\",\"technology\",\"technology\",\"technology\",\"technology\",\"general\",\"general\",\"general\",\"general\",\"general\",\"general\",\"general\",\"general\",\"general\",\"general\",\"technology\",\"technology\",\"technology\",\"technology\",\"technology\",\"technology\",\"technology\",\"technology\",\"business\",\"general\",\"general\",\"general\",\"general\",\"general\",\"general\",\"general\",\"general\",\"general\",\"general\",\"general\",\"general\",\"general\",\"general\",\"general\",\"general\",\"general\",\"general\",\"entertainment\",\"entertainment\",\"entertainment\",\"entertainment\",\"entertainment\",\"entertainment\",\"general\",\"general\",\"general\",\"general\",\"technology\",\"technology\",\"technology\",\"technology\",\"technology\",\"technology\",\"technology\",\"technology\",\"sports\",\"sports\",\"sports\",\"sports\",\"sports\",\"sports\",\"sports\",\"sports\",\"technology\",\"technology\",\"technology\",\"technology\",\"business\",\"business\",\"business\",\"business\",\"general\",\"general\",\"general\",\"general\",\"general\",\"general\",\"general\",\"general\",\"general\",\"general\",\"general\",\"general\",\"general\",\"general\",\"general\",\"general\"],\"index\":[0,1,2,3,4,5,6,7,8,9,10,11,12,13,14,15,16,17,18,19,20,21,22,23,24,25,26,27,28,29,30,31,32,33,34,35,36,37,38,39,40,41,42,43,44,45,46,47,48,49,50,51,52,53,54,55,56,57,58,59,60,61,62,63,64,65,66,67,68,69,70,71,72,73,74,75,76,77,78,79,80,81,82,83,84,85,86,87,88,89,90,91,92,93,94,95,96,97,98,99,100,101,102,103,104,105,106,107,108,109,110,111,112,113,114,115,116,117,118,119,120,121,122,123,124,125,126,127,128,129,130,131,132,133,134,135,136,137,138,139,140,141,142,143,144,145,146,147,148,149,150,151,152,153,154,155,156,157,158,159,160,161,162,163,164,165,166,167,168,169,170,171,172,173,174,175,176,177,178,179,180,181,182,183,184,185,186,187,188,189,190,191,192,193,194,195,196,197,198,199,200,201,202,203,204,205,206,207,208,209,210,211,212,213,214,215,216,217,218,219,220,221,222,223,224,225,226,227,228,229,230,231,232,233,234,235,236,237,238,239,240,241,242,243,244,245,246,247,248,249,250,251,252,253,254,255,256,257,258,259,260,261,262,263,264,265,266,267,268,269,270,271,272,273,274,275,276,277,278,279,280,281,282,283,284,285,286,287,288,289,290,291,292,293,294,295,296,297,298,299,300,301,302,303,304,305,306,307,308,309,310,311,312,313,314,315,316,317,318,319,320,321,322,323,324,325,326,327,328,329,330,331,332,333,334,335,336,337,338,339,340,341,342,343,344,345,346,347,348,349,350,351,352,353,354,355,356,357,358,359,360,361,362,363,364,365,366,367,368,369,370,371,372,373,374,375,376,377,378,379,380,381,382,383,384,385,386,387,388,389,390,391,392,393,394,395,396,397,398,399,400,401,402,403,404,405,406,407,408,409,410,411,412,413,414,415,416,417,418,419,420,421,422,423,424,425,426,427,428,429,430,431,432,433,434,435,436,437,438,439,440,441,442,443,444,445,446,447,448,449,450,451,452,453,454,455,456,457,458,459,460,461,462,463,464,465,466,467,468,469,470,471,472,473,474,475,476,477,478,479,480,481,482,483,484,485,486,487,488,489,490,491,492,493,494,495,496,497,498,499,500,501,502,503,504,505,506,507,508,509,510,511,512,513,514,515,516,517,518,519,520,521,522,523,524,525,526,527,528,529,530,531,532,533,534,535,536,537,538,539,540,541,542,543,544,545,546,547,548,549,550,551,552,553,554,555,556,557,558,559,560,561,562,563,564,565,566,567,568,569,570,571,572,573,574,575,576,577,578,579,580,581,582,583,584,585,586,587,588,589,590,591,592,593,594,595,596,597,598,599,600,601,602,603,604,605,606,607,608,609,610,611,612,613,614,615,616,617,618,619,620,621,622,623,624,625,626,627,628,629,630,631,632,633,634,635,636,637,638,639,640,641,642,643,644,645,646,647,648,649,650,651,652,653,654,655,656,657,658,659,660,661,662,663,664,665,666,667,668,669,670,671,672,673,674,675,676,677,678,679,680,681,682,683,684,685,686,687,688,689,690,691,692,693,694,695,696,697,698,699,700,701,702,703,704,705,706,707,708,709,710,711,712,713,714,715,716,717,718,719,720,721,722,723,724,725,726,727,728,729,730,731,732,733,734,735,736,737,738,739,740,741,742,743,744,745,746,747,748,749,750,751,752,753,754,755,756,757,758,759,760,761,762,763,764,765,766,767,768,769,770,771,772,773,774,775,776,777,778,779,780,781,782,783,784,785,786,787,788,789,790,791,792,793,794,795,796],\"title\":[\"Nazi swastika flag flown on Australian Defence vehicle in Afghanistan\",\"The bizarre story of Australia's floating hotel \\u2014 in North Korea\",\"Mandatory English language classes, new test under consideration for migrants\",\"Leading economist warns of 'mini domestic financial crisis' as bank values plummet\",\"In the age of 'fake news', trust in the media has \\u2014 wait for it \\u2014 risen sharply\",\"Israel's use of lethal force 'could amount to war crime'\",\"What being a person of colour in Salvini's Italy feels like\",\"Fed-up AMA doctors overwhelmingly support gun restrictions in sweeping votes\",\"Comcast offers $65 billion for Fox, says government won\\u2019t stop merger\",\"Massive Martian dust storm has put Opportunity rover in a low-power sleep\",\"Volkswagen Group will pay another $1.2 billion in Germany over diesel scandal\",\"Latest estimate shows how much Antarctic ice has fallen into the sea\",\"The Joy of Sleeping: Bob Ross recordings recast as bedtime audio series\",\"Comcast disabled throttling system, proving data cap is just a money grab\",\"Saudi-led forces open assault on Yemen port city of Hodeida\",\"Trump claim raises eyebrows: NKorea no longer a nuke threat?\",\"Antarctica's ice sheet is melting 3 times faster than before\",\"Worker protections seen at risk in Trump health care shift\",\"Fed raises key rate and sees possible acceleration in hikes\",\"World Cup 2018: Football showpiece set to begin in Russia\",\"England v Australia: Moeen Ali & Eoin Morgan impress as hosts edge win\",\"2018 Fifa World Cup: Watch the BBC World Cup titles\",\"Aled Sion Davies fears para sport could take 'step back' in Dubai\",\"Gennady Golovkin v Saul 'Canelo' Alvarez: Rematch to take place on 15 September\",\"This will get you in the mood for the World Cup - BBC Sport's World Cup 2018 opener\",\"World Cup 2030: England should have 'confidence' in bidding for tournament - Gill\",\"Trump Says He May Upset China Over Trade Action in Coming Weeks\",\"Deputy Governor Leaves Bank of Canada for San Francisco Fed\",\"Cirque du Soleil Is Coming Soon to a Shopping Mall Near You\",\"U.S., Canada, Mexico Unite Long Enough to Win 2026 World Cup Bid\",\"GOP candidates are hitting the trail with an all-star cast of former Trump aides as his grip on the party is more intense than ever\",\"Comcast makes $65 billion offer for 21st Century Fox assets as bidding war with Disney heats up (FOXA, CMCSA, DIS)\",\"Trump's biggest nightmare in the Russia investigation may be about to come true\",\"WeWork is looking to raise new funds at a $35 billion valuation, according to its major investor SoftBank\",\"The world is running out of sand \\u2014 and there's a black market for it now\",\"Trump's trade war is about to kick into high gear\",\"This startup says it will beat Tesla to putting unmanned semi-trucks on the road: 'I don't think Tesla's in the race'\",\"Ex-Tesla employees who were laid off this week are surprisingly praising the automaker in LinkedIn posts\",\"The Trump administration is reportedly considering housing migrant children in 'tent cities' near the border\",\"Theresa May wins key Brexit votes as Jeremy Corbyn suffers huge Labour rebellion\",\"Millionaire Brexit campaigner Arron Banks says Brexit is 'getting very tedious' and he might quit politics\",\"Comcast makes $65 billion offer for 21st Century Fox assets as bidding war with Disney heats up\",\"Netflix hits an all-time high with help from a bullish Goldman Sachs\",\"We tried a caffeine-free charcoal latte made with ground coconut shells\",\"The Trump-Kim summit is over, but it's China's vision that emerged dominant\",\"Iran's World Cup team is suddenly scrambling to find shoes to wear after Nike abruptly withdrew its supply\",\"Treasury yields jump after the Fed hikes, signals 2 more increases this year\",\"Trump Said There Is \\\"No Longer A Nuclear Threat\\\" From North Korea With Absolutely No Evidence\",\"Katy Perry Was The Artist Kesha Allegedly Accused Dr. Luke Of Raping In That Infamous Lady Gaga Text\",\"Tell Us What You Would Do With A Trillion Dollars, And We'll Reveal What Your Royal Title Would Be\",\"Can You Get Your Work Crush To Ask You Out?\",\"19 Cake Decorators Who Should Be Very, Very, Very Ashamed\",\"Sophia Bush Said She Didn't Really Want To Marry Chad Michael Murray\",\"Rebel Wilson's $4.5 Million Defamation Win Has Been Slashed On Appeal\",\"The Women In Toronto's Comedy Scene Aren't Going To Take It Anymore\",\"15 Items Under $20 From Amazon That'll Help You Become More Eco-Friendly\",\"Which Of Your BFFs Should Be Your Maid Of Honor?\",\"How Netflix sent the biggest media companies into a frenzy, and why Netflix thinks some are getting it wrong\",\"Fed hikes rates, points to two more increases by year's end\",\"Fed's Powell: Some companies say they are holding back on investment due to Trump's trade conflicts\",\"UK government says it\\u2019s on the path to creating a tech giant to rival Google or Facebook\",\"UK leader Theresa May says 'special relationship' with the US means there can also be disagreements\",\"Elon Musk just bought another $25 million in Tesla stock\",\"Dow falls nearly 120 points after Fed hikes rates, points to more increases in 2018\",\"Markets increase bets for fourth rate hike this year after Fed statement\",\"President Trump's legal team plots next move following the North Korea summit\",\"President Trump's astonishing words about the people of North Korea\",\"The dishonours list: The tainted honours system is in the dock again\",\"NASA rover falls silent as gigantic dust storm envelops Mars\",\"Sylvester Stallone probed by LA DA over sexual assault allegations\",\"Google may be working on a way to run Windows 10 on a Pixelbook\",\"Ring's home security system finally ships July 4th for $199\",\"\\u2018Fortnite\\u2019 E3 tournament was a taste of its esports future\",\"Kesha accused Dr. Luke of raping Katy Perry in text message to Lady Gaga\",\"Ewan McGregor to star in Stephen King's <em>The Shining</em> sequel <em>Doctor Sleep</em>\",\"'Pops: Fatherhood in Pieces' author Michael Chabon keeps coming back to dads\",\"Sophia Bush details harassment allegations against <em>One Tree Hill</em>\\u00a0creator Mark Schwahn\",\"<em>Superfly</em> has sex, drugs, and violence\\u2026 but not much more: EW review\",\"Jamie Foxx calls allegation he slapped woman with his penis in 2002 \\u2018absurd\\u2019\",\"Selena Gomez's fans hit back after designer Stefano Gabbana calls her 'ugly'\",\"Mister Rogers' wife stopped by <em>Jimmy Fallon</em>\\u00a0to share the importance of the number 143\",\"Jeremy Irons is ferocious in an otherwise forgettable<em> Long Day's Journey Into Night</em>: EW review\",\"No hype, big results: The unsung hero on every team\",\"Antarctica's Rate of Melting Ice Has Tripled in the Last Decade, Study Says\",\"NASA's Mars 'Opportunity' Rover May Be Lost in Massive Dust Storm\",\"ZTE, Trump, and China: Here's What the Fuss Is All About\",\"More Leaders Should Follow the Example of the CEOs of AT&T and Time Warner\",\"Comcast Offers $65 Billion for Fox in Bidding War With Disney\",\"IBM Has Invented a Machine-Learning Device To Help You Stay Fit During Long Meetings. It Wants a Patent.\",\"We Still Don\\u2019t Fully Understand Suicide. But We Do Know What Reduces It\",\"Gudmundsson and Iceland out to anger Messi as they did Ronaldo\",\"Morocco v Iran: Ziyech full of belief ahead of World Cup\",\"Allegri claims he rejected Real Madrid ahead of Lopetegui's appointment\",\"Egypt v Uruguay: Salah fitness doubts cast shadow over Pharaohs' World Cup return\",\"Pique summons spirit of Michigan '89 amid Spain's Lopetegui fiasco\",\"Analysis | \\u2018A great honor\\u2019: In a bid for history, Trump flatters North Korea\\u2019s totalitarian leader\",\"Pressure on Michael Cohen intensifies as Mueller stays focused on the Trump attorney\",\"Fed Raises Interest Rates and Signals 2 More Increases Are Coming\",\"Senate Aide Accused of Lying to F.B.I. Pleads Not Guilty\",\"First guilty plea in Penn State frat hazing death of Timothy Piazza\",\"Judge calls Lake Merritt\\u2019s #JoggerJoe a \\u201cthreat to safety,\\u201d keeps bail high\",\"Comcast, in 2nd Try, Offers $65 Billion Cash for 21st Century Fox\",\"WeWork Is Raising Funds at $35 Billion Valuation, SoftBank Executive Says\",\"E3 2018: From Software's Sekiro: Shadow's Die Twice's World Structure is Similar to Dark Souls 1 - IGN\",\"Stranger Things' Millie Bobby Brown Deletes Twitter Account After Homophobic Memes - IGN\",\"Best of E3 2018 Awards - Nominees List - IGN\",\"Grenfell Tower: Hundreds of council-owned homes empty as scores of families remain stuck in hotels\",\"Grenfell fire: The school providing sanctuary to survivors, \\u2018I don\\u2019t have a home, so I come here\\u2019\",\"There is no reason to think anything else bad will come of the Grenfell tragedy. What should worry us is too little will be learned\",\"Grenfell tower survivors still searching for a home one year on: 'I don't want a castle, I don't want a penthouse'\",\"Grenfell victims were subject to 'social apartheid' in north Kensington, Labour\\u2019s Diane Abbott says\",\"Love Island's Megan gets ready for the World Cup by spectacularly letting down the nation\",\"Battle for Hodeidah: Why is the Yemeni city so important and what will the fighting mean for civilians?\",\"This Olive Garden commercial script introducing lasagna wings is just too good\",\"'Ghost of Tsushima' director: 'This is not a simple war story'\",\"What to Do About the Space Junk Crisis We Created\",\"Snag the Striker Spy Drone for just $60 during this sale\",\"Score this handy tablet stand on sale for less than $40\",\"E3 means huge gaming deals on Nintendo, Sony, Xbox, PS4, and more\",\"What is visualization and why it may be the coolest thing in Hollywood\",\"Bunch of idiots destroy 320,000,000 years of history in a few stupid seconds\",\"What it's like to be a carer for my fiance in our 20s\",\"Tube driver stops train to wave green banner above Grenfell vigil\",\"Six Labour MPs quit in blow to Jeremy Corbyn over Brexit vote\",\"Bitcoin collapses as academic says price was artificially inflated during boom\",\"Man had foot amputated then served it to friends for dinner\",\"Pictured: British tourist and boyfriend who fell off 90ft wall taking selfie\",\"Paranoid North Korea swab pen given to Kim Jong-un to sign historic US agreement\",\"Man slips and pierces his face with a pan after drunken kitchen stumble\",\"Theresa May regrets Grenfell response. Why did it take a year to show humanity?\",\"Killers chopped cheating husband's fingers off as they hacked him to death\",\"Full list of 90 Labour MPs rebelling over Brexit - search to see how yours voted\",\"Rihanna flashes whole boob in awkward wardrobe malfunction at Ocean's 8 premiere\",\"Georgia gets intimate with Josh hours after Niall shockingly quits Love Island\",\"Einstein's 'shocking racism' revealed as his private diaries are published\",\"Brit drug smuggler lived \\u00a375k-a-week high life and boasted he was 'f***ing nuts'\",\"Grenfell Tower lit up green to mark one year since tragedy that killed 72\",\"Mum gave birth to 'most perfect gift' after womb donation from sister\",\"Three bodies found below Beachy Head cliff while police search for fourth person\",\"Are Riverdale And Jane The Virgin Secretly The Same Show?\",\"8 Songs That Reveal 5 Seconds Of Summer's Path From Pop-Punk To Pure Pop\",\"Lil Pump, Trippie Redd, Smokepurpp, And More Are XXL's Freshman Clout Class\",\"Finn Wolfhard, Vanessa Hudgens, Nina Dobrev Are Surrounded By Pups In Dog Days Trailer\",\"Troye Sivan And Ariana Grande Are A Great Team On Wiggly New 'Dance To This'\",\"Kendall Jenner Spotted Snogging Gigi and Bella Hadid's Bro Anwar Hadid\",\"Kendall Jenner Has Been Accused Of Photoshopping Her Abs On Instagram\",\"Ariana Grande And Pete Davidson Are Already Joking About Making Babies\",\"Charlotte Crosby's Wild Night Out Looks Epic Until Relentless Paparazzi Completely Ruin It\",\"Watch a 3D-printed magnetic critter fold and move all by itself\",\"Why tidal power won\\u2019t solve the world\\u2019s renewable energy needs\",\"How can you tell if a video is a deepfake? Just look at the eyes\",\"Alarm as ice loss from Antarctica triples in the past five years\",\"The US wants to build an X-ray bomb to destroy chemical weapons\",\"Former Trump adviser Roger Stone is ready for civil war\",\"Chemical weapons were very likely used in hospital attack in Syria, watchdog reveals\",\"Antarctica has lost nearly 3 trillion tonnes of ice since 1992\",\"Did a U.S. military vehicle kill a boy in Lithuania? It's all \\\"fake news,\\\" defense minister says\",\"Will North Korea really denuclerize? Trump may have given Kim Jong Un too much for too little\",\"The raccoon who took social media by storm for climbing a skyscraper has been safely captured\",\"Iran published a 47-page report criticizing Washington's human rights record\",\"Too much or too little sleep linked to heart disease, stroke and diabetes in new study\",\"Missing the World Cup Is Like Detention for the United States\",\"Trump\\u2019s Summit Spectacle Was Just Momentary Distraction From His Bigger Problems\",\"If You\\u2019re at a Loss: Get Your Dad This Watch That\\u2019s on Sale for 25 Bucks\",\"The Cheapest Gifts From the Most Expensive Brands That\\u2019ll Arrive by Father\\u2019s Day\",\"Do Marriages Last Longer If the Couple Dated for Longer First?\",\"6 Women on How They\\u2019ve Been Treated at Work After Having Kids\",\"\\u2018Someone Is Saying Bad Things About Me and I\\u2019m Losing Sleep Over It!\\u2019\",\"Bengals unsure if Eifert (back) will be ready for camp\",\"Skull & Bones\\u2019 2019 release date is the best thing to happen to it\",\"Sekiro: Shadows Die Twice is definitely not a Dark Souls game\",\"Mario Tennis Aces is getting more characters \\u2014 and a new way to unlock them\",\"Sea of Thieves\\u2019 patch v.1.12 adds Skeleton Thrones event and more\",\"Netflix & Telltale Games to deliver Minecraft, Stranger Things projects\",\"Black Ops 4 DLC to be sold exclusively in season pass\",\"The Last of Us Part 2 will have multiplayer (of some sort)\",\"Disney and Comcast are willing to divest 21st Century Fox\\u2019s RSNs\",\"AT&T can buy Time Warner. Let the media megamergers begin! Recode Daily\",\"The home-flipping startup Opendoor requires a lot of money. It now has $325 million more. And SoftBank could come next.\",\"How \\u201cBullying\\u201d Amazon Killed a Seattle Tax Meant to Help the Homeless\",\"Twitter stock is at a three-year high. What is going on?\",\"Code Conference: Watch all of Recode\\u2019s interviews from Code 2018\",\"Author of \\u2018Live Work Work Work Die\\u2019 Corey Pein on Recode Decode: transcript\",\"Fox News mocked for praising Trump's Kim Jong Un meeting after slamming Obama for \\\"dictator\\\" talks\",\"T\\u00e1 pensando que \\u00e9 so no BR que tem malaquias?\",\"Jogger who trashed homeless man's things charged with robbery in new dispute\",\"EA and Activision are too scared to add swastikas while Bethesda here doesn't give a fuck. \\u2022 r/gaming\",\"I was laid off last week and my dog walker offered to continue giving walks for free while I look for a new job \\u2022 r/HumansBeingBros\",\"LPT: If you're buying a home printer for occasional use, get a laser printer; they're more expensive up front but way more economical in the long run. \\u2022 r/LifeProTips\",\"Comcast offers $65 billion to lure Fox from Disney bid\",\"Exclusive: Half of Americans back Trump's handling of North Korea - Reuters/Ipsos poll\",\"Trump says summit removed North Korean nuclear threat, but Democrats doubtful\",\"Witness no-show as Reuters reporters mark six months in Myanmar detention\",\"Los Angeles prosecutors reviewing sexual assault case against Sylvester Stallone\",\"Tony Bellew opens door to Tyson Fury fight after Gypsy King's winning comeback - 'Let's make it happen'\",\"DONE DEAL: Patrick Vieira appointed Nice manager after leaving New York City FC\",\"Belgium 4-1 Costa Rica: Lukaku stars in Red Devils' final pre-World Cup win, but Eden Hazard limps off\",\"Leeds United next manager odds: Claudio Ranieri and Marcelo Bielsa favourites ahead of Sam Allardyce and Mick McCarthy\",\"Soccer Aid 2018: Best moments and pictures from England XI v World XI charity match at Old Trafford\",\"Manchester City manager Pep Guardiola hits back at Yaya Toure\\u2019s racism accusation\",\"Nabil Fekir had already chosen Liverpool shirt number before Anfield transfer collapsed\",\"Former world heavyweight champion Tyson Fury beats Sefer Seferi in comeback fight\",\"Manchester United star Paul Pogba \\u2018can\\u2019t be trusted as a central midfielder\\u2019, says Graeme Souness\",\"Apple confirms that it will seal up law enforcement's favorite iPhone cracking method\",\"This AR guppy feeds on the spectrum of human emotion\",\"Comcast bids $65B for Fox assets, setting the stage for a fight with Disney\",\"Democrats introduce an election security bill that proposes paper trails and mandatory audits\",\"Chowbotics raises $11 million to move its robot beyond salads\",\"Netflix is adding an interactive \\u2018Minecraft\\u2019 story to its lineup, denies entry into gaming\",\"Uber brings on Facebook product director to lead driver product\",\"Ashton Kutcher and Effie Epstein to talk Sound Ventures at TC Disrupt SF\",\"Here's what having the biggest game of the year looks like at E3\",\"Netflix to add games to its service, including Stranger Things and Minecraft\",\"E3 2018: all the latest news and rumors from this year's big gaming show\",\"Exclusive: Telltale Games to produce a new series based on Stranger Things\",\"Samsung Galaxy Note 9 release date, price, news and leaks\",\"5 most exciting games Nintendo showed off at E3 2018\",\"Russia prepares to welcome 1m visitors for the World Cup\",\"Donald Trump and Kim Jong Un sign the blandest of agreements\",\"The link between cultural participation and well-being in later life\",\"Italy\\u2019s Matteo Salvini refuses to let a boat full of migrants land\",\"Faith and higher education can intersect in many different ways\",\"Brian Burston quits One Nation \\u2013\\u00a0and Hanson loses Senate balance of power\",\"Huawei denies being locked out of bidding to help build 5G network\",\"Mike Pompeo loses temper when asked about North Korean disarmament\",\"Man charged with murder of woman found on Melbourne soccer field\",\"Jeremy Corbyn hit by revolt as dozens defy whip in Brexit vote\",\"Security row over EU Galileo satellite project as Britain is shut out\",\"Don't have sex with men from 'different race' during World Cup, warns Russian politician\",\"'It\\u2019s like coming back to life': Italian MP reveals her face to public for first time\",\"Indian chess champion quits competition in Iran over headscarf rule\",\"Our government doesn\\u2019t discriminate on basis of religion: Rajnath Singh\",\"4 BSF personnel killed in Pakistan Rangers firing in Samba\",\"Michael Cohen's Lawyers Expected To Stop Representing Him In FBI Probe: Reports\",\"Breastfeeding Mother Says Officials Took Her Baby At Immigrant Detention Center\",\"Doubtful But Possible: Republicans Believe Immigration Gamble Could Pay Off\",\"Donald Trump's Takeover Of The Republican Party Is Now Complete\",\"Bleak New Figures Show Just How Unaffordable Rent Is In Every U.S. State\",\"\\u200bThis Is Why The Incredibles 2 Took 14 Years To Finish\",\"Woman Catches Ghostly Figure On Camera While Filming Her Son\",\"\\u200bWhat To Expect From The Open World Of Cyberpunk 2077\",\"Xbox Plan Exclusives With 5 New Studios Including Rumoured Fable 4\",\"Dwayne Johnson Shares Adorable Photo Of Himself Feeding Partner While She Feeds Baby\",\"Mum Who Took Illegal Cannabis Oil To Battle Terminal Cancer Given The All-Clear\",\"Trump Team Sees \\u2018Major Disarmament\\u2019 of North Korea in 2.5 Years\",\"Republicans Absorb New Lesson: Cross President Trump at Their Peril\",\"The Message of the June Fed Meeting: There\\u2019s a New Chairman in Charge\",\"Fears of New Humanitarian Crisis in Yemen After Attack on Port\",\"Market manipulation was key factor in Bitcoin\\u2019s bull run, researchers say\",\"Apple patched a USB vulnerability to keep hackers (or police) out of your iPhone\",\"Review: The KnewKey Rymek is a gorgeous, retro-inspired mechanical keyboard\",\"Man wins right to sue Google over search results he claims are defamatory\",\"Market trends show why diversifying your portfolio in cryptocurrencies is difficult\",\"Intel will take on Nvidia and AMD with dedicated GPUs of its own starting in 2020\",\"Report: Netflix and Telltale Games are working on a game streaming service\",\"Google's AI brings better offline translations to Android and iOS\",\"'Canelo' Alvarez And Gennady Golovkin To Rematch On September 15th\",\"Watch: Antoine Griezmann Does Not Feature In Atletico Madrid's World Cup Video\",\"Jamie Carragher Turns Up At Liverpool Fan's Wedding After Instagram Invite\",\"Pep Guardiola Will Turn To Secondary Target If Jorginho Deal Collapses For Man City\",\"Iran's World Cup Squad Looks Like A Bunch Of Models Than Footballers\",\"Nigeria\\u2019s Travel Outfits For The World Cup Might Just Be The Coolest Thing Ever\",\"Deontay Wilder Accepts Terms To Fight Anthony Joshua In The UK\",\"The Moment 11-Year-Old Harry Kane Met David Beckham With Schoolgirl Who Would Become His Fiancee\",\"'Nirav Modi flees to Brussels, believed to be travelling on Singapore passport' - Times of India\",\"Fuel efficiency norms to be tightened as govt seeks to push automakers to make more electric vehicles - Times of India\",\"Asst Commandant among 4 BSF men killed in Pak firing - Times of India\",\"Deserter 'NRI husbands' may soon lose assets, passports - Times of India\",\"Dalit groups plan Bharat bandh over lateral entry - Times of India\",\"Inside Amazon\\u2019s $3.5 million competition to make Alexa chat like a human\",\"Apple finally has the right attitude about notifications in iOS 12\",\"Comcast makes $65 billion offer to steal 21st Century Fox away from Disney\",\"Cyberpunk 2077 is part RPG, part shooter, part GTA-style mayhem\",\"The new academy makeup may improve Hereditary and A Quiet Place\\u2019s Oscar chances\",\"Fortnite on Switch makes Sony\\u2019s cross-play policy look even more stupid\",\"Bitcoin\\u2019s rise might be linked to price manipulation, study indicates\",\"AT&T Beat the Government Over Time Warner\\u2014Now Comes the Hard Part\",\"White House Seeks to Block Senate Bid to Kill ZTE Deal\",\"Fed Raises Interest Rates, Sets Stage for Two More Increases in 2018\",\"Attorneys for Michael Cohen, Trump\\u2019s Lawyer, Are Quitting His Case\",\"U.S. Seeks \\u2018Major Disarmament\\u2019 of North Korea During Trump\\u2019s Term\",\"Apple Tests Feature That Could Hamper Investigators\\u2019 Access to iPhones\",\"LBO Volume Surges as KKR, Others Put $1 Trillion Cash Pile to Work\",\"North Korea\\u2019s dispersed and hidden weapons complex highlights the challenge of denuclearization\",\"Trump says North Korea \\u2018no longer\\u2019 a nuclear threat as he returns to Washington\",\"Perspective | The World Cup will show us soccer is more than just thrilling. It\\u2019s art.\",\"Scanning immigrants\\u2019 old fingerprints, U.S. threatens to strip thousands of citizenship\",\"Comcast makes $65 billion offer for 21st Century Fox, setting up bidding war with Walt Disney\",\"Apple is making it harder for police to collect evidence from iPhones of suspected criminals\",\"Antarctica's Ice Is Melting Even Faster, and Scientists Are Deeply Worried\",\"Mike Pompeo Says U.S. Will Resume War Games With South Korea If North Korea Stops Acting in Good Faith\",\"The U.S., Canada and Mexico Just Won a Joint Bid to Host the 2026 World Cup\",\"Vanilla Is Nearly as Expensive as Silver. That Spells Trouble for Madagascar\",\"South Carolina Elections Show Trump Can Hurt. But Can He Still Help?\",\"Sarin and Chlorine 'Very Likely' Used in Syria in March 2017, Watchdog Says\",\"Cheryshev's scintillating brace lights up Russia's Cup opener Saudi mauling\",\"Robbie's middle finger, Putin and shonky acoustics: Opening ceremony unveils World Cup\",\"'Fireworks' on show as supermassive black hole rips star apart\",\"Whatever your sport of choice, the World Cup is above the code wars\",\"Consumers more annoyed with their energy company than their bank\",\"Who needs humans? Google's DeepMind algorithm can teach itself to see\",\"He's a superstar of the science world but no-one knows his name\",\"Palestinian teen shot by Israeli soldier: 'My leg is gone'\",\"Will spike in fake news have an impact on elections in Turkey?\",\"Dealmaster: Get a 15-inch Dell laptop with an 8th-gen Core i7 for $580\",\"Windows 10 April 2018 Update now open to all, thanks to machine learning\",\"Verizon\\u2019s new $95 unlimited plan offers at least 75GB of high-speed data\",\"It looks like Google is readying the Pixelbook to run Windows 10\",\"Sony is locking Fortnite accounts to PS4, and players are mad\",\"Forget about that Tesla\\u2014the Jaguar I-Pace is the most compelling EV yet\",\"Microsoft tech may help Walmart get rid of cashiers and checkout lines\",\"Fewer US teens smoking, doing drugs ... and drinking milk\",\"Trump's halt of 'war games' could weaken defenses in Korea\",\"Raised in the projects: San Fran elects black woman mayor\",\"World Cup 2018: Russia thrash Saudi Arabia 5-0 in tournament opener\",\"US Open first round: Rose and McIlroy among early starters\",\"World Cup 2018: Denis Cheryshev scores 'marvellous' goal for Russia\",\"2018 FIFA World Cup: Alan Shearer and Jermaine Jenas choose their England XI\",\"US Open: Ian Poulter shares clubhouse lead as Rory McIlroy struggles at Shinnecock Hills\",\"World Cup 2018: Russia v Saudi Arabia - rate the players\",\"Real Madrid: Julen Lopetegui sacking not justified, says Florentino Perez\",\"World Cup 2018: A bluffer's guide to every team in Russia\",\"World Cup 2018: Ronaldo and Robbie Williams star in opening ceremony\",\"Premier League fixtures 2018-19: Man City visit Arsenal on opening weekend\",\"Apple Is Close to a Deal for an Animated Movie\",\"The Fed Is Uncertain About a Key Pillar of Its Policy\",\"Comey Broke From FBI Procedures in Clinton Probe, Watchdog Finds\",\"Brutal 568-page watchdog report blasts Comey, finds FBI officials may have wanted to hurt Trump's chances of winning the election\",\"Ethereum spikes after the SEC declares it's not a security\",\"Leaked audio reveals how Amazon's strategy of secrecy is spreading to Whole Foods\",\"One of investing's most influential minds has a bold prediction about the future of tech stocks \\u2014 and it's not pretty for the likes of Apple and Facebook\",\"The simple rule this couple follows to avoid fighting about money\",\"70,000 questions a year, satellite imagery, and dismantling electric cars: How UBS is trying to change the face of financial research\",\"A tiny crypto firm making 9-figure bitcoin trades is taking a page out of Goldman Sachs' playbook to become a juggernaut\",\"This former iHeart exec used to chase crazy partnerships on Bob Pittman's jet, now he's helping public radio take back power from Apple\",\"A Qantas Airbus A380 took a scary nosedive over the Pacific Ocean after flying through turbulence caused by another A380\",\"Theresa May risks defeat as she dares furious Tory rebels to vote down 'unacceptable' Brexit deal\",\"The UK isn't learning lessons from Grenfell Tower fast enough \\u2014\\u00a0and it's putting more lives at risk\",\"An opera singer, a middle finger, and Putin's speech: All the best photos from the 2018 World Cup opening ceremony\",\"New York attorney general sues Trump and his children, alleging their charity engaged in 'persistent illegal conduct'\",\"Tesla has surged more than 20% since Elon Musk warned of the 'short burn of the century'\",\"Steve Bannon is getting into cryptocurrency and has talked about creating 'deplorable coin'\",\"UBS ran 10,000 simulations of the World Cup \\u2014 and one team is the head and shoulders above the rest\",\"Weapons experts say Trump's current plan to denuclearize North Korea is likely to fail \\u2014 here's what they think he should do instead\",\"Why England and other UK countries all have their own soccer teams\",\"Here's what it's like to drive trains on London's Tube \\u2014 one of the most complicated subway systems in the world\",\"Drake Reunited The Whole \\\"Degrassi\\\" Cast For His \\\"I'm Upset\\\" Video And It Goes There\",\"35 Photos Of Rihanna To Provide A Healing Balm For Your Soul\",\"17 Times Dads Made You Roll Your Eyes And Then LOL\",\"16 Pictures You'll Understand If Your Upstairs Neighbors Never Shut The Hell Up\",\"Here's Why J.T. And Sean Weren't In Drake's \\\"Degrassi\\\" Reunion Video\",\"This Is What 12 Very Stylish People Wore To Prom\",\"15 Reasons Why Your Kids Are Smiling Down At Their Phone All Damn Day\",\"Trump's forecast of 4% GDP growth close to coming true as Americans spend tax bill proceeds\",\"White House expects to slap tariffs on smaller list of Chinese products Friday\",\"New York attorney general sues Trump and family over charity, claiming 'illegal conduct' for 'more than a decade'\",\"James Comey used Gmail for official FBI business numerous times when director: Watchdog\",\"The Fed has taken the first step toward an early exit from its balance sheet reduction\",\"Bitcoin is crashing. Here\\u2019s what it could mean for stocks\",\"More Toys R Us stores went up for sale. Here's what's moving in\",\"Reed Hastings won by studying Amazon \\u2014 then running in the opposite direction\",\"World Cup announcer Andres Cantor explains the science behind his famous 'Goal!' call\",\"Cramer: Elon Musk 'floats like a butterfly, stings like a bee' versus investors betting against Tesla\",\"How 7 words in the IG report give Trump all the 'deep state' ammo he wanted\",\"What was Trump thinking when he saluted a North Korean general?\",\"Pompeo: No sanctions relief for North Korea until complete denuclearization\",\"Adele sings Lean on Me on first anniversary of Grenfell fire disaster\",\"Two Charlton Athletic players appear in court over alleged sex attack\",\"Meghan and the Queen giggle their way through first joint engagement\",\"'Goldfinger' tycoon to buy pier saved with \\u00a312m of public money\",\"Waitress, 27, quits job after bosses took more than \\u00a3700 of her tips\",\"Grenfell anniversary LIVE: London marks a year since the tragedy\",\"Rolls-Royce is set to axe up to 4,600 jobs over the next two years\",\"Jaguar I-Pace review: A luxury EV that can tackle anything\",\"<em>Voltron\\u00a0</em>bosses promise season 6 will offer answers to several mysteries\",\"<em>Super Smash Bros. Ultimate</em>\\u00a0feels familiar in all the right ways\",\"<em>Game of Thrones</em>, <em>Westworld</em>\\u00a0are not going to Comic-Con this year\",\"Dominic Monaghan reveals why he wasn\\u2019t scared of his\\u00a0underwater death on\\u00a0<em>Lost</em>\",\"<em>Cloak and Dagger</em> stars 'would love to see' a <em>Runaways</em>\\u00a0crossover\",\"Brie Larson calls for more diverse voices in film criticism, not just 'white dudes'\",\"<em>Aquaman</em>: 7 exclusive photos reveal King Orm, Vulko, Mera, more\",\"<em>This Is Us</em> season 3: 'They\\u2019re not going to kill Beth,' assures Susan Kelechi Watson\",\"Trades, free agency and draft decisions for every NBA team\",\"Netflix Will Continue to Stream Anthony Bourdain's 'Parts Unknown' After Fan Outcry\",\"Old Forester's New Distillery Returns to Its Original Louisville Headquarters\",\"A Party During a Major Biotech Conference Featured Topless Dancers \\u2014 And Is Drawing Heavy Criticism\",\"Comey 'Deviated' From FBI Procedures in Clinton Probe, Watchdog Finds\",\"Washington Needs to Adopt AI Soon or We\\u2019ll Lose Millions\",\"Alisson to Real Madrid? I was joking, says Roma chief Pallotta\",\"It's like we're at a funeral - Ramos cuts short news conference amid Lopetegui questions\",\"Spain too good to be derailed by Lopetegui saga, says Renard\",\"Russia 5 Saudi Arabia 0: Cheryshev, Golovin star in World Cup opener despite Dzagoev blow\",\"Email investigation 'cast a cloud' over the FBI, report says\",\"Trump Foundation, Accused of Sweeping Violations, Is Sued by New York Attorney General\",\"Pennsylvania Tornado Collapses Multiple Buildings, Overturns Cars; 6 Injured | The Weather Channel\",\"Green gems shooting from Kilauea volcano in Hawaii as lava forms new peninsula\",\"Supreme Court Strikes Down Law Barring Political Apparel at Polling Places\",\"Ryan breaks with Trump on splitting families at the border\",\"Florida man drops meth off at sheriff's office for testing after suffering 'bad reaction,' police say\",\"Sarah Sanders, Raj Shah planning to depart the White House\",\"The Last of Us Has Sold Over 17 Million Copies - IGN\",\"What You Need to Know Before Watching Marvel's Luke Cage: Season 2 on Netflix - IGN\",\"E3 2018: Star Fox Coming to Starlink: Battle for Atlas 'Started at E3 Last Year' - IGN\",\"E3 2018: Sony Has Little to Say in Response to Fortnite Cross-Play Controversy - IGN\",\"Legion Season 3: What the Comics Tell Us About David's Villainous Destiny - IGN\",\"E3 2018: Where to Preorder Poke Ball Plus and Pokemon Let's Go Bundles Right Now - IGN\",\"Brexit: Theresa May's compromise plan falls apart as pro-EU rebels brand it 'unacceptable'\",\"Supermassive black hole seen eating star for the first ever time\",\"Britain's contribution to fighting Russian organised crime is 'less than negative', says renowned prosecutor\",\"New York files lawsuit against Trump and his charity over 'persistently illegal conduct'\",\"US leads war games near Russian border with 18,000 troops on eve of World Cup\",\"World Cup 2018: Russia down Saudi Arabia as greatest show on earth starts as it means to go on\",\"World Cup streaming: Free live feeds online can endanger football fans who try to watch them\",\"Peter Tatchell detained in Moscow: Gay activist held after one-man protest against Russian treatment of LGBT+ community\",\"Austria\\u2019s chancellor calls for anti-migration 'axis' with Germany and Italy\",\"Amazon has the Fitbit Charge 2 on sale for $50 off\",\"Chrissy Teigen and John Legend are throwing a very expensive party for Trump's birthday\",\"Neil Druckmanconfirms one part of a 'Last of Part II' fan theory\",\"How a Salesforce certification can increase your salary and even help you land your dream job\",\"Pay whatever you want for these 10 award-winning Mac apps\",\"How to play 'Skyrim' with Alexa: A quick guide to our favorite new skill\",\"Singer brings a balloon on stage, but it doesn't go as planned\",\"Gang jailed for life for stabbing boy, 17, to death on friend's doorstep\",\"Robbie Williams likened to Morrissey as World Cup fans roast his performance\",\"Waitress reveals her payslips to 'prove' restaurant was taking her tips\",\"Russia record biggest opening-match World Cup win in 84 years against\",\"Queen's nod to Grenfell as she wears green for outing with Meghan Markle\",\"ScotRail puts racist man in place by saying he can 'walk instead'\",\"Tory rebels reject Theresa May's 'sneaky' offer on Brexit meaningful vote\",\"Vulnerable women on a date can 'Ask for Angela' in festivals if it goes wrong\",\"The SNP will follow the Scottish people's will - not power-grabbing Brexiteers\",\"Teenage gang chase 17-year-old they swarmed on 'like vultures'\\u00a0before killing\",\"Queen gave Meghan special gift before trip together - and she's wearing it today\",\"Men ran 'Fifty Shades-style sex den' called Mr Magoo's which made \\u00a33,000-a-week\",\"Wife 'gloated about having lesbian affair on day she was stabbed to death'\",\"'Sadistic monster' hummed Terminator theme tune as he tortured friend to death\",\"Robbie Williams turns World Cup ceremony air blue as he swears at viewers\",\"Mums who regret name they picked for their baby reveal why they don't like it\",\"Putin says Russian women can have sex with World Cup tourists\",\"We\\u2019ve seen a gigantic black hole tear a star in half and eat it\",\"EU will limit the use of palm oil as car fuel but won\\u2019t stop it\",\"Is research in jails the way to end wars over dietary guidance?\",\"Russia hopes the World Cup will help its image\\u2014but will ISIS and other enemies spoil it for the Kremlin?\",\"Strozk to Page: \\\"We'll Stop\\\" Trump from being president, new text messages show\",\"President Trump and children sued for \\\"persistently illegal conduct,\\u2019 allegedly misusing charity funds\",\"Watch: Putin jokes with Crown Prince MBS as Russia defeats Saudi Arabia during World Cup match\",\"MS-13: How an FBI informant risked death to bring America\\u2019s most brutal gang to justice\",\"Hundreds of people are still missing after the deadly Guatemalan volcano eruption\",\"NATO forces show Russia they can resist invasion as war games come to an end\",\"Archaeologists have uncovered 3,500 year old rock art in the Egyptian desert\",\"Ricky Martin Freaked Out About Penelope Cruz in Versace, Too\",\"My Boyfriend Moved in With My Husband and Our Kids\",\"Samuel L. Jackson Is in Most Movies, But He Wants Even More\",\"Jump Force is manga brought into the very, very real world\",\"Resident Evil 2\\u2019s Tofu and mutant gator will return for the remake\",\"Donkey Kong, Sky Skipper come to Nintendo Switch Arcade Archives\",\"When I asked about Rage 2\\u2019s worst character, I got an unexpected response\",\"Fortnite\\u2019s E3 swag is already going for big bucks online\",\"Call of Duty: Black Ops 4\\u2019s beta coming in August, and Comcast is offering a sneak preview opportunity\",\"Facebook policy and comms head Elliot Schrage will step down after a decade\",\"Alex Blumberg, Matt Lieber podcast about the trials of entrepreneurship\",\"Comcast restarts the Fox bidding war with a $65B offer: Recode Daily\",\"New York files suit against President Trump, alleging his charity engaged in \\u2018illegal conduct\\u2019\",\"I've spent 10 years with this 160gb monster in my pocket, it's been with me in every single trip, journey and commute I've made since I was 20. Today it played its last song. Farewell, you magnificent bastard. \\u2022 r/pics\",\"People that wait until they\\u2019re married to have sex only have sex with people in their family. \\u2022 r/Showerthoughts\",\"Report rebukes Comey, but says no bias in Clinton email case\",\"Trump's tariffs pose risk to global trade, U.S. economy: IMF\",\"Supreme Court throws out Minnesota ban on voter political apparel\",\"Exclusive: Microsoft takes aim at Amazon with push for checkout-free retail\",\"Get your ticket to the TechCrunch Summer Party at August Capital\",\"SEC says Ether isn't a security, but tokens based on Ether can be\",\"Feast your eyes on these uniquely beautiful indie games from E3\",\"ZTE has few cards left to play to avoid \\u201cdeath penalty\\u201d\",\"Seattle reverses controversial tax Amazon opposed, just a month after approving it\",\"Netflix's latest hit 'The Kissing Booth' is a Wattpad success story\",\"Telemundo, Universal and TreasureHunt are launching a shootout game in time for the World Cup\",\"Juul tightens up social media to focus on former smokers switching to e-cigs\",\"As the World Cup begins, Russia should free Oleg Sentsov\",\"Nearly one-fifth of Americans would deny their country\\u2019s Muslims the right to vote\",\"In Germany it\\u2019s hard to occupy the middle ground on immigration\",\"When drama and beauty turn the World Cup into art\",\"Man charged with rape and murder of Melbourne comedian Eurydice Dixon\",\"Trump and family sued by New York attorney general over alleged charity violations\",\"Russians enjoy dream World Cup opening despite Robbie Williams\\u2019 finger\",\"Great Barrier Reef: four rivers are most responsible for pollution\",\"Alan Jones's comments about Wagner family 'unable to be defended', his lawyer says\",\"South Australia to compel priests to report abuse revealed in confession\",\"Journalist defends story in libel case brought by billionaire Chau Chak Wing\",\"Tory rebellion back on after MPs reject May's Brexit amendment\",\"Immigration rules for doctors and nurses to be lifted due to NHS pressures\",\"Merkel coalition at risk as talks on refugee policy falter\",\"North Korea sanctions to stay until full denuclearisation, says US\",\"Dr Luke denies Kesha's claim that he raped Katy Perry in libel case\",\"FIFA World Cup 2018: Russia kick-starts campaign with a thumping win\",\"India set to push for extradition proceedings against Nirav Modi\",\"Tamil Nadu MLAs\\u2019 disqualification case: Madras High Court delivers split verdict; matter to be heard by third judge\",\"New York Attorney General Sues Trump Foundation For 'Persistent Illegal Conduct'\",\"DOJ Watchdog Slams 'Insubordinate' James Comey Over Clinton Email News Conference\",\"Migrant Children Detained In U.S. Facility See Mural Of Trump Quote About Evicting Tenants\",\"James Comey Used Personal Email For FBI Business, Inspector General Finds\",\"Austria's Leader Wants An 'Axis' With Germany And Italy Against Migration\",\"Paul Ryan Doesn't Want Kids Split From Their Parents, But He Won't Blame Trump For It\",\"DOJ Watchdog Report Takeaway: FBI Hurt Hillary Clinton, Not Donald Trump\",\"Antarctic Ice Sheet Is Melting Way Faster Than Expected, Scientists Warn\",\"Pensioner Furiously Slaps Woman After She Refuses To Give Up Her Seat On Subway\",\"Waitress Reveals Her Payslips To 'Prove' Restaurant Was Taking Her Tips\",\"Makers Of 'Fortnite' Warn Gamers To Be Wary Of V-Bucks Scammers\",\"Robbie Williams Branded A 'Disgrace' For Flipping The Finger At The World Cup 2018 Opening Ceremony\",\"Comey Cited as Insubordinate, but Report Finds No Bias in F.B.I. Decision to Clear Clinton\",\"Did Comey Cost Clinton the Election? Why We\\u2019ll Never Know\",\"Inside the Former Walmart That Is Now a Shelter for Almost 1,500 Migrant Children\",\"It sure looks like Google is trying to make Pixelbooks run Windows\",\"Elon Musk's Boring Company will build high-speed transit tunnels in Chicago\",\"It\\u2019s all the Adobe CC training you need in one place, for less than $5 per course\",\"What\\u2019s really behind the EU law that would \\u201cban memes\\u201d \\u2013 and how to stop it before June 20\",\"Researchers continue to find vulnerabilities in $9 billion cryptocurrency EOS\",\"Your Friday Viewing Is Sorted With These Tasty World Cup Fixtures\",\"Kylian Mbappe Names The Manager He Dreams Of Playing For\",\"Presenter Asks Gary Neville About Denis Cheryshev, He Responds Hilariously\",\"You Need To Watch The 12-Year-Old Basketball Player Who Dominates Everyone At 6ft 10in\",\"Clive Tyldesley's Commentary During Russia Vs. Saudi Arabia Leaves Fans In Stitches\",\"Iceland Captain Aron Gunnarsson Has Definitely Got The Best Tattoo At The World Cup\",\"200% rise in invites to Indians for Canadian permanent residency - Times of India\",\"India slams UN report on Kashmir, calls it 'selective compilation of largely unverified information' - Times of India \\u25ba\",\"Disqualification of 18 AIADMK MLAs: Judges agree to disagree; matter goes to tie-breaker - Times of India\",\"Elon Musk\\u2019s Boring Company approved to build high-speed transit between downtown Chicago and O\\u2019Hare Airport\",\"Sony issues weak response to Fortnite cross-play controversy on PS4 and Switch\",\"Snap launches a developer platform to bring Snapchat\\u2019s camera and Bitmoji to other apps\",\"The Last of Us: Part II will be a tale of revenge, its director says\",\"DOJ Watchdog\\u2019s Clinton Report Finds Missteps by Comey, No Political Bias\",\"ECB to End Bond-Buying Program in December as Crisis-Era Policies Wind Down\",\"Big Investors Don\\u2019t Want Wall Street Analysts Snooping on Them\",\"Meet Apple\\u2019s Security Headache: The GrayKey, a Startup\\u2019s iPhone-Hacking Box\",\"Strong Spending Data Shows U.S. Economy Chugging Ahead of Europe and Asia\",\"What Should Waiters and Bartenders Earn? The Debate Over the Tipped Wage\",\"The World Cup Has Adopted Instant Replay. On Further Review, That\\u2019s a Bad Idea\",\"Trump receiving briefing ahead of public release of report expected to criticize FBI\",\"Trade war could wipe out gains of GOP tax law, former top Trump economist says\",\"Vodka, pine nuts and politics: World Cup fans meet Russians on the world\\u2019s longest train line\",\"Inside Casa Padre, the converted Walmart where the U.S. is holding nearly 1,500 immigrant children\",\"Ryan doesn\\u2019t assure passage of House immigration bill: \\u2018Nothing\\u2019s easy\\u2019\",\"The Inspector General's Report Criticizes James Comey. Here's What You Need to Know\",\"Donald Trump Used Foundation as His Personal Piggy Bank, New York Attorney General Alleges\",\"Mike Pompeo Says Sanctions Will Remain on North Korea Until Complete Denuclearization\",\"'A Lot of People Have Done Bad Things.' President Trump Downplays North Korea's Human Rights Abuses\",\"Tom Rogic is Australia's World Cup wildcard \\u2014 here\\u2019s why\",\"Britain's history with Huawei may help explain why Australia is so nervous\",\"'I clean bloody toilets and I clean them good': The great-grandma scrubbing dunnies to save lives\",\"Have we seen this all before? The Trump-Kim summit statement, annotated\",\"The tiny mosque on the Outer Hebrides serving 60 Muslims\",\"Data Propria, run by Cambridge Analytica alumni, working on Trump 2020 campaign\",\"The 2018 Honda Accord proves there\\u2019s still life in the family sedan\",\"Common drugs have depression as a possible side effect\\u2014a third of us take them\",\"Huge Apple Maps outage prevents all users from searching, getting directions [Update]\",\"What to expect now that AT&T officially owns Time Warner\",\"George Lucas reveals his plan for Star Wars 7 through 9\\u2014and it was awful\",\"Trump hits GOP immigration bill, then seems to warm to it\",\"AP FACT CHECK: Trump assails Dems for his own migrant policy\",\"A trade war looms as Trump slaps tariffs on Chinese imports\",\"World Cup 2018: Cristiano Ronaldo scores hat-trick as Portugal and Spain draw 3-3\",\"World Cup 2018: Cristiano Ronaldo's free-kick pulls Portugal level against Spain\",\"World Cup 2018: Nacho puts Spain 3-2 ahead against Portugal\",\"US Open: Dustin Johnson leads, Tommy Fleetwood surges, Tiger Woods set to miss cut\",\"England v South Africa: Hosts secure series win with emphatic Canterbury victory\",\"World Cup 2018: De Gea mistake gifts Ronaldo his second goal\",\"World Cup 2018: Diego Costa's solo goal pulls Spain level against Portugal\",\"World Cup 2018: Iran beat Morocco to win first World Cup finals tie in 20 years\",\"Ford to Scrap Ontario's Carbon System in Challenge to Trudeau\",\"CIBC Reaches for More as Its U.S. Banking Push Starts Paying Off\",\"30 AND UNDER: These are the rising stars in tech who are driving innovation\",\"China fires back at Trump with tariffs on US goods, says it's time to end 'outdated and regressive behavior'\",\"These 7 global companies have the best chance to survive the retail apocalypse, Credit Suisse says\",\"The government just pieced together 16 pages from Michael Cohen's paper shredder and obtained thousands of his encrypted messages\",\"Trump says he wants the US to treat him like North Korea treats Kim Jong Un\",\"eToro is setting up a crypto trading desk for hedge funds and banks\",\"Egypt made a baffling decision to bench its best player in their first match of the World Cup and then lost in the final minute\",\"Trump ignites trade war with China, officially announces tariffs on $50 billion worth of Chinese goods\",\"Conservatives are distancing themselves from the Tory MP who blocked a law to ban upskirting\",\"Cristiano Ronaldo reportedly fined $21.8 million for tax evasion just hours before he plays in the World Cup\",\"A famous Spotify investor has dropped an explosive harassment lawsuit against his brother\",\"We tried a \\u00a3250 LED mask beauty treatment that's popular with celebrities such as Jessica Alba and Chrissy Teigen\",\"Stephen Hawking's voice will be blasted into a black hole from a space station in a touching final memorial\",\"Moroccan player heads the ball into his own net in stoppage time to give his team a heartbreaking loss to Iran\",\"The Betrayed Clarinetist Whose Story Went Viral Was In Amazingly Good Spirits Talking About It On BuzzFeed's Morning Show\",\"Twitter Is Obsessed With This French Bulldog Waiting Patiently Outside A Kitchen He's Not Allowed In\",\"Come Share Pictures That Show What Postpartum Is Really Like\",\"Take This Quiz To Find Out How Easily You Fall For Online Bullshit\",\"This Teen Used Her Grad Gown As A Bathrobe 'Cause \\\"It's Just Too Much Money\\\" And Inspired Others\",\"Nerdist Has Deleted All References To Host Chris Hardwick After An Abuse Allegation From His Ex\",\"Amy Poehler Was Asked To Do A Fluff Interview In 2018 And She Did NOT Play Along\",\"China announces retaliatory tariffs on $34 billion worth of US goods, including agriculture products\",\"Comcast and Disney should stop fighting over Fox and split it up \\u2014 but they probably won't\",\"Wynn Resorts and other US companies could get hit in a US-China trade war\",\"Rupert Murdoch's tax bill could top $4 billion in Fox deal\",\"Tesla short-sellers have been getting creamed, but they're still betting against Elon Musk anyway\",\"A year after Amazon announced its acquisition of Whole Foods, here's where we stand\",\"Manafort pleads not guilty to witness tampering charge as special counsel Mueller seeks bail revocation\",\"Trump says he 'certainly wouldn't sign' GOP's compromise immigration bill\",\"Chart watcher debunks a major bitcoin theory amid its 50% plunge this year\",\"Republicans scramble to understand if Trump just sunk their immigration effort\",\"University of Central Florida fraternity members accused of posting revenge porn on Facebook\",\"A student showed up to school in a KKK costume -- reportedly with his teacher's approval\",\"Police called as girl kicks off as she can't watch Love Island\",\"Teenager dies after taking ecstasy with friends on camping trip\",\"Terrifying moment moped thugs fatally stabbed charity worker in London\",\"Hit and run driver knocks over two elderly women at a bus stop\",\"Train mayhem sees rail trips fall by 23m in just one year\",\"Parents weep as they tell court how daughter died in bouncy castle\",\"Prison officer who fell for inmate after a riot is spared jail\",\"Leslie Grantham who played Dirty Den in EastEnders has died aged 71\",\"Justin Roiland is a totally chill, normal guy with a new video game\",\"Comcast says it\\u2019s no longer throttling heavy internet users' speeds\",\"Why Jonathan Safran Foer (and Natalie Portman) brought<em> Eating Animals</em> to the screen\",\"RHONJ star Teresa Giudice and husband Joe's bankruptcy case dismissed\",\"How <em>Bumblebee</em>'s changes could save <em>Transformers</em> \\u2014 and lead to an Optimus Prime movie\",\"Chris Hardwick references removed from Nerdist website amid possible sexual assault claims\",\"Oprah Winfrey signs multi-year partnership with Apple for original programming\",\"<em>Captain Marvel</em>\\u00a0enlists Pinar Toprak as the MCU's first female composer\",\"<em>Yellowstone</em>\\u00a0is soapy trash that badly wants to be taken seriously: EW review\",\"Tiger 10 over at U.S. Open, likely to miss cut\",\"All That Business Travel May Be Making You Physically and Mentally Sick, Study Says\",\"The Ledger: Ethereum Cofounder on SEC Blessing, Tether's Bitcoin Domination, Ripple vs. Stellar Lumens\",\"Trump Wants People to 'Sit Up At Attention' For Him Like Kim Jong Un's Do\",\"Lessons from Europe: How to Get More Women on Corporate Boards\",\"Apple's Tim Cook Says Every Apple Park Employee Has a Standing Desk\",\"Ivanka Trump\\u2019s Paid Leave Policy Would Be Disastrous. Here Are Some Better Options\",\"Portugal 3 Spain 3: Brilliant Ronaldo hat-trick earns thrilling draw\",\"Cristiano Ronaldo makes history with goal at eighth successive major tournament\",\"Iran party rumbles on but Morocco should take pride in their tears\",\"Morocco 0 Iran 1: Bouhaddouz own-goal gifts game to Queiroz's men\",\"Ronaldo accepts suspended prison sentence and fine to settle tax case\",\"Djourou: Switzerland's World Cup group tough but anything is possible\",\"China Warns U.S. Firms as Trade War Brews: Buckle Up\",\"With GOP flustered, White House aides try to clarify Trump's immigration comments\",\"Michael Cohen Seeks Gag Order on Lawyer for Stormy Daniels\",\"Kansas sheriff\\u2019s deputy dead, 1 in critical condition after shooting near courthouse\",\"The Latest: Police say man tells them he shot kids, others\",\"Harvard Rated Asian-American Applicants Lower on Personality Traits, Lawsuit Says\",\"E3 2018: How The Last of Us Part 2 Redesigned Combat for Playing as Ellie - IGN\",\"Best Action Movies on Netflix Right Now (June 2018) - IGN\",\"E3 2018: Why Nintendo Sees Switch Online as the Virtual Console Successor - IGN\",\"Opinion: Why The Incredibles Remains One of Pixar's Best - IGN\",\"Never Alone Creators Reveal New Game Beyond Blue - IGN\",\"The Man Behind The KazHiraiCEO Parody Account Has Been Revealed - IGN\",\"E3 2018: Kingdom Hearts 3's New Trailers, Worlds, Gameplay Revealed - IGN\",\"Spider-Man PS4 Becomes Marvel Comics Canon Thanks to Spidergeddon Event - IGN\",\"David Davis 'blocked' plans to give parliament more power over Brexit after protests of Tory right-wing\",\"Bill to make upskirting criminal offence blocked by Tory MP Sir Christopher Chope\",\"Moped 'highwaymen' who stabbed charity worker to death for iPhone PIN jailed for life\",\"Paul Manafort: Trump's former campaign manager sent to jail to await trial\",\"World Cup 2018, Spain vs Portugal: Cristiano Ronaldo scores stunning hat-trick to salvage point in Sochi\",\"Drill rap gang banned from making music without police permission in legal first\",\"Trump to impose tariffs on $50bn worth of Chinese goods\",\"Learn how to create Raspberry Pi projects with these online courses\",\"'Little Fires Everywhere' is a beautiful novel that takes you places you'll never expect to go\",\"The Wype helps keep hands clean while snacking at the computer\",\"Someone brought an IRL World Cup meme to a soccer match\",\"Theresa May 'disappointed' upskirting bill is blocked after Tory MP objects\",\"Bill to ban upskirting derailed after being opposed by Conservative MP\",\"Mum and daughter Isis terror cell jailed for plotting Westminster attack\",\"Sergeant who tried to kill his wife by tampering with parachute is jailed for life\",\"Man in rooftop stand-off with police after 'run-in' with paedophile hunters\",\"Guy who was told he had the wrong number sends d*ck pic anyway\",\"Doctor tied to tree as wife and daughter were raped at gunpoint by gang of 20\",\"Heart-breaking images of little girl \\u2018beaten by father\\u2019 and chained to toilet\",\"Man arrested after cruise ship party turned into 'drug-fuelled orgy'\",\"Unai Emery sends message to Granit Xhaka after Arsenal star signs new contract\",\"Hoover Dam 'gunman' blocks road 'with message for Donald Trump'\",\"Epilepsy patient Billy Caldwell, 12, fights for life after cannabis oil seized\",\"Terrified passengers on burning plane ignore crew's warnings in rush to escape\",\"Helen McCourt's killer taunted her mum after she begged for location of body\",\"Hungover woman wakes up to see she's kidnapped stranger's dog on boozy night out\",\"5 talking points as glorious Ronaldo treble salvages point for Portugal v Spain\",\"Man accused of 'killing student with diet pills' says he was 'satisfying demand'\",\"Katie Price and toyboy knock back gin and tonics on 9am flight\",\"Sadly, Millie Bobby Brown Has A Very Good Reason For Skipping The Movie & TV Awards\",\"Everything You Need To Know About The 2018 MTV Movie & TV Awards\",\"Drake Still Isn't Over That Girl Who Said He Couldn't Sing On 2 Chainz's New Song\",\"American Horror Story Season 8 Theme Revealed And \\u2014 Surprise! \\u2014 It's A Crossover\",\"Nicki Minaj And Ariana Grande's 'Bed' Might Make Pete Davidson Blush\",\"Mediterranean diet is still good for you but only if you\\u2019re rich\",\"Underwater robot finds second world war bomber plane on seabed\",\"AI can detect early signs of Parkinson\\u2019s from brain scans alone\",\"A federal judge orders ex-Trump campaign chairman Paul Manafort to jail amid witness-tampering allegations\",\"Almost 45 children a day are being taken from their families and placed in immigrant detention centers: Report\",\"Republicans' blind loyalty to Donald Trump is a \\\"cancerous growth\\\" in the GOP, Mark Sanford Says\",\"Live updates: Sheriff's deputies in Kansas City shot near courthouse\",\"Trump-China trade war could erase all economic gains from tax plan, suggests president's former adviser\",\"Feminists spend more time on difficult math equations and are more willing to sacrifice men, study says\",\"Ditch your iPhone X, the retro 3GS is making a comeback\",\"Trump Is Making Us All Live in His Delusional Reality Show\",\"42 Things on Sale You\\u2019ll Actually Want to Buy: From Margiela to Swedish Hasbeens\",\"What Are You Getting When You Buy a Refurbished Vitamix?\",\"I Had No Idea What Fatherhood Was Going to be Like\",\"Trump Isn\\u2019t Very Popular in the Heartland States He Won in 2016\",\"I Saw Jake Paul Live and All I Got Was a Creeping Sense of Existential Dread\",\"NFL trope season is here! The finest in recycled themes\",\"Eric Weddle: Offseason moves 'lit a fire' in Joe Flacco\",\"Just Cause 4 director explains how to make explosive barrels feel fresh\",\"Cyberpunk 2077 will include full nudity for a very important reason\",\"How does Fortnite hold up on the Switch graphically? Let\\u2019s find out\",\"Compulsion Games promises to continue making \\u2018crazy games\\u2019 following Microsoft acquisition\",\"Watch 30 minutes of Daemon X Machina gameplay from E3\",\"Cyberpunk 2077: 3 things it gets right about the original tabletop RPG\",\"The Last of Us tops 17 million copies sold on PS3, PS4\",\"Apple has hired Oprah Winfrey to create original content for Apple TV\",\"Silicon Valley Congressman Ro Khanna on Recode Decode: podcast transcript\",\"World Cup soccer highlights will put social media\\u2019s copyright tools to the test\",\"AT&T can buy Time Warner. What does that mean for everyone else?\",\"Full transcript: Vox Editor at Large Ezra Klein on Recode Media\",\"Gorilla using sign language to tell visitors they can't throw food into his cage\",\"My wife is halfway through CHEMO and the toughest woman I know. Fuck Cancer! \\u2022 r/pics\",\"U.S. judge sends ex-Trump campaign head Manafort to jail pre-trial\",\"Trump sets $50 billion in China tariffs; Beijing vows to strike back\",\"U.S. government says nearly 2,000 child separations at Mexico border in under two months\",\"Trump's personal lawyer Cohen loses bid for quick Avenatti gag order\",\"Trump quip about North Korea's Kim sparks outcry on social media\",\"Soaring costs, loss of benefits top Americans' healthcare worries: Reuters/Ipsos poll\",\"Apple nabs Oprah as top talent flocks to digital entertainment\",\"Pakistani Taliban leader killed in air strike in Afghanistan near border\",\"Judge says 'literal but nonsensical' Google translation isn't consent for police search\",\"Machines learn language better by using a deep understanding of words\",\"Apple and Oprah sign a multi-year partnership on original content\",\"Kustomer gets $26M to take on Zendesk with an omnichannel approach to customer support\",\"With its new in-car operating system, BMW slowly breaks with tradition\",\"Apple Maps outage disrupts search and navigation for all users\",\"European and Indian regulators team up to defend net neutrality\",\"8 virtual reality games you'll want to play from E3 2018\",\"Some thoughts on the crisis of liberalism\\u2014and how to fix it\",\"Paul Manafort: judge sends ex-Trump chair to jail for violating bail terms\",\"\\u2018Men need to change\\u2019: anger grows over police response to comedian's murder\",\"Cristiano Ronaldo hits hat-trick as Portugal deny Spain in six-goal thriller\",\"Special visas for white South African farmers on agenda for Liberal council meeting\",\"Oxfam to axe jobs and aid programmes in \\u00a316m cuts after scandal\",\"Delhi's air pollution is now so bad it is literally off the chart\",\"Frydenberg tells states conservative Liberals won't get their way on emissions cuts\",\"South Australia Catholic church to ignore law on reporting confessions of abuse\",\"Tory rebel claims May was forced to backtrack on Brexit promise\",\"Members of all-female terror cell jailed over London knife plot\",\"SIT says Sri Ram Sene man Waghmore had shot Gauri\",\"FIFA 2018: Ronaldo hat-trick earns Portugal draw with Spain in thriller\",\"Trump Calls Female Reporter 'So Obnoxious,' Tells Her To Be Quiet\",\"'Viva Le Resistance': FBI Anti-Trump Messages Give President More 'Deep State' Fodder\",\"Michigan Not Waiting Around For EPA To Fix Weak Rules On Lead In Drinking Water\",\"Yet Another Top Interior Department Official Seems To Have An Ethics Problem\",\"Ex-Trump Campaign Manager Paul Manafort Jailed After New Mueller Indictment\",\"Giuliani: Trump Will Win Second Term Easily, Especially If Dems Nominate \\u2018Moron\\u2019 Biden\",\"Everyone's In Awe Of Cristiano Ronaldo's Performance At The World Cup\",\"Boy With Epilepsy Reportedly Left Fighting For Life After Medical Cannabis Seized\",\"\\u200bApple Users Are Complaining That IOS 11.4 Is Killing Their Battery\",\"Meet The Monster Grill - All 6,000 Calories Of It\",\"LadBaby Wins Clas Ohlson Celebrity Dad Of The Year For 2018\",\"'American Horror Story' Season 8 To Be 'Murder House' and Coven' Crossover\",\"U.S. to Put Tariffs on $50 Billion in Chinese Goods as Trade Fight Widens\",\"Judge Orders Manafort Jailed Before Trial, Citing New Obstruction Charges\",\"Trump, Riding a North Korea High, Unloads on the F.B.I., Democrats and Obama\",\"Trump\\u2019s Interview on \\u2018Fox and Friends\\u2019 Covered a Lot. Here Are Some of the Key Things He Said, Fact-Checked.\",\"Soundcore Space NC review: Anker's first ANC cans are a winner\",\"Apple Maps outage caused people to switch to Google like they should've anyway\",\"Nintendo resurrects two of its oldest arcade titles for the Switch\",\"How blockchain  will transform the e-commerce industry over the next few years\",\"Name your price to learn all you need to know about using Amazon Web Services\",\"The word 'hack' is now meaningless and should be retired\",\"SEC: Ethereum is too \\u2018decentralized\\u2019 to be considered a security\",\"Netflix is definitely not getting into gaming (depending on how you define games)\",\"Spain And Portugal Just Gave Us One Of The Most Entertaining World Cup Games Ever\",\"People Think They've Worked Out The Reason Behind Cristiano Ronaldo's Celebration\",\"David De Gea Does His Best Rob Green Impression, Gifts Cristiano Ronaldo A Second\",\"Cristiano Ronaldo Scores Incredible Free Kick Against Spain, THE GOAT\",\"The 'Vuvuzela' Has Returned To The World Cup And People Are Muting Their TV\",\"Robbie Williams Gives The Middle Finger To Millions Watching At Home During World Cup Ceremony\",\"David De Gea Agrees New Five-Year Deal With Manchester United\",\"Sons Of Brazil's Most Famous Fan Are Continuing His Legacy At The World Cup\",\"E3 2018: the most important stories from gaming\\u2019s biggest week\",\"White House announces 25 percent tariff on Chinese tech goods\",\"The Boring Company\\u2019s Chicago project seems awfully cheap for something so big\",\"Trump\\u2019s 2020 campaign reportedly working with former Cambridge Analytica employees\",\"China to Impose Tariffs of 25% on 545 U.S. Products\",\"\\u2018What\\u2019s He Doing Here?\\u2019: Inside Trump\\u2019s Turbulent Relationship With Michael Cohen\",\"UPS\\u2019s $20 Billion Problem: Operations Stuck in the 20th Century\",\"Court Filings Detail Role of Race in Harvard Undergraduate Admissions\",\"\\u2018Very unfair!\\u2019: Trump complains about Manafort\\u2019s jailing on witness tampering allegations\",\"From \\u2018the Count\\u2019 to inmate: The fall of former Trump campaign chair Paul Manafort\",\"Analysis | Mueller keeps tightening the screws on Paul Manafort\",\"Officials say Trump backs GOP immigration bills, despite comments opposing them. One says Trump misunderstood Fox News\\u2019 question.\",\"Trump praises Kim\\u2019s authoritarian rule, says \\u2018I want my people to do the same\\u2019\",\"NIH cancels $100 million study of moderate drinking as irrevocably compromised\",\"Promoted six times and then fired: Inside a 24-year-old political appointee\\u2019s wild ride in Trump\\u2019s Washington\",\"Review | Hands off my data! 15 more default privacy settings you should change on your TV, cellphone plan, LinkedIn and more.\",\"Trump imposes import taxes on Chinese goods, and warns of \\u2018additional tariffs\\u2019\",\"Former Trump Campaign Head Paul Manafort Is Going to Jail While Awaiting Trial\",\"Trump Administration Announces New Tariffs on $50 Billion of Chinese Goods Amid Escalating Trade Dispute\",\"Melons Are Being Recalled Over Salmonella Fears in More Than 20 States\",\"Parkland School Guard Who Didn't Stop Shooter Had Harassed One of the Victims, Family Says\",\"'I Hate It.' Double-Amputee Climber Xia Boyu Vows Never to Return to Everest\",\"Scott Pruitt Is Fighting a Growing List of Scandals by Going to the Heartland\",\"Physicist Stephen Hawking's Voice Will be Broadcast Into Space in a Final Tribute\"],\"x\":{\"__ndarray__\":\"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\",\"dtype\":\"float32\",\"shape\":[797]},\"y\":{\"__ndarray__\":\"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\",\"dtype\":\"float32\",\"shape\":[797]}}},\"id\":\"ec07bc60-3c11-4a7a-a952-f47d4dbee548\",\"type\":\"ColumnDataSource\"},{\"attributes\":{\"source\":{\"id\":\"ec07bc60-3c11-4a7a-a952-f47d4dbee548\",\"type\":\"ColumnDataSource\"}},\"id\":\"f33bd87d-7662-4c78-97ab-503ace9412e9\",\"type\":\"CDSView\"},{\"attributes\":{\"active_drag\":\"auto\",\"active_inspect\":\"auto\",\"active_scroll\":\"auto\",\"active_tap\":\"auto\",\"tools\":[{\"id\":\"083b4fb4-9ec8-40c5-94d1-9afff656fcb3\",\"type\":\"PanTool\"},{\"id\":\"abb500f1-5a5a-4ea1-b5eb-fd0ab5d45ed5\",\"type\":\"WheelZoomTool\"},{\"id\":\"2a383627-d7c1-4bc2-9d18-5dbca117b511\",\"type\":\"BoxZoomTool\"},{\"id\":\"02ca5bad-189e-43eb-a72f-c7b668729df7\",\"type\":\"ResetTool\"},{\"id\":\"254bce71-f3a1-4b5e-9a5b-f76cdde3c33f\",\"type\":\"HoverTool\"},{\"id\":\"b1849717-5e5b-4571-a66f-1546cf538b20\",\"type\":\"SaveTool\"}]},\"id\":\"7692ed85-f0aa-4856-92e0-82842bbf9403\",\"type\":\"Toolbar\"},{\"attributes\":{},\"id\":\"abb500f1-5a5a-4ea1-b5eb-fd0ab5d45ed5\",\"type\":\"WheelZoomTool\"},{\"attributes\":{\"callback\":null},\"id\":\"73efc577-72e8-43da-a039-689cebe2f75e\",\"type\":\"DataRange1d\"},{\"attributes\":{\"items\":[{\"id\":\"3bb649c1-eb94-4c1a-a8d9-e4cc6e53f9fc\",\"type\":\"LegendItem\"}],\"plot\":{\"id\":\"39b676cb-ad73-456a-a96f-74708d401f21\",\"subtype\":\"Figure\",\"type\":\"Plot\"}},\"id\":\"5ace9590-1ab2-4b2f-a325-8da311d60073\",\"type\":\"Legend\"},{\"attributes\":{\"data_source\":{\"id\":\"ec07bc60-3c11-4a7a-a952-f47d4dbee548\",\"type\":\"ColumnDataSource\"},\"glyph\":{\"id\":\"a7c66611-a960-4543-9cdb-87f66984f87f\",\"type\":\"Circle\"},\"hover_glyph\":null,\"muted_glyph\":null,\"nonselection_glyph\":{\"id\":\"fd150942-8237-40aa-ba44-8c6009250435\",\"type\":\"Circle\"},\"selection_glyph\":null,\"view\":{\"id\":\"f33bd87d-7662-4c78-97ab-503ace9412e9\",\"type\":\"CDSView\"}},\"id\":\"034554ec-4956-447a-ad0f-053174cd26f9\",\"type\":\"GlyphRenderer\"},{\"attributes\":{\"callback\":null},\"id\":\"a4a0b893-45c6-419e-bae9-50d118cbc952\",\"type\":\"DataRange1d\"},{\"attributes\":{},\"id\":\"02ca5bad-189e-43eb-a72f-c7b668729df7\",\"type\":\"ResetTool\"},{\"attributes\":{\"label\":{\"field\":\"category\"},\"renderers\":[{\"id\":\"034554ec-4956-447a-ad0f-053174cd26f9\",\"type\":\"GlyphRenderer\"}]},\"id\":\"3bb649c1-eb94-4c1a-a8d9-e4cc6e53f9fc\",\"type\":\"LegendItem\"},{\"attributes\":{\"callback\":null,\"tooltips\":[[\"Headline\",\"@title\"],[\"category\",\"@category\"]]},\"id\":\"254bce71-f3a1-4b5e-9a5b-f76cdde3c33f\",\"type\":\"HoverTool\"},{\"attributes\":{},\"id\":\"b1849717-5e5b-4571-a66f-1546cf538b20\",\"type\":\"SaveTool\"},{\"attributes\":{\"plot\":null,\"text\":\"tf-idf clustering of the news\"},\"id\":\"8941b2e6-fa66-4e82-b897-a7b4cc99ea90\",\"type\":\"Title\"},{\"attributes\":{\"factors\":[\"general\",\"technology\",\"sports\",\"business\",\"entertainment\",\"science\"],\"palette\":[\"#1f77b4\",\"#ff7f0e\",\"#2ca02c\",\"#d62728\",\"#9467bd\",\"#8c564b\"]},\"id\":\"4dc0a022-af56-4218-834b-7c986338e67e\",\"type\":\"CategoricalColorMapper\"},{\"attributes\":{\"bottom_units\":\"screen\",\"fill_alpha\":{\"value\":0.5},\"fill_color\":{\"value\":\"lightgrey\"},\"left_units\":\"screen\",\"level\":\"overlay\",\"line_alpha\":{\"value\":1.0},\"line_color\":{\"value\":\"black\"},\"line_dash\":[4,4],\"line_width\":{\"value\":2},\"plot\":null,\"render_mode\":\"css\",\"right_units\":\"screen\",\"top_units\":\"screen\"},\"id\":\"242e00ea-1fa1-4ea3-b7c6-25e9a09ce2e8\",\"type\":\"BoxAnnotation\"},{\"attributes\":{},\"id\":\"954a9da6-af8d-4e7b-b534-de1780ec48cf\",\"type\":\"LinearScale\"},{\"attributes\":{\"overlay\":{\"id\":\"242e00ea-1fa1-4ea3-b7c6-25e9a09ce2e8\",\"type\":\"BoxAnnotation\"}},\"id\":\"2a383627-d7c1-4bc2-9d18-5dbca117b511\",\"type\":\"BoxZoomTool\"}],\"root_ids\":[\"39b676cb-ad73-456a-a96f-74708d401f21\"]},\"title\":\"Bokeh Application\",\"version\":\"0.12.10\"}};\n",
       "    var render_items = [{\"docid\":\"96c5729f-ec9c-4844-826f-777422b1f47b\",\"elementid\":\"93193931-d849-4f06-a740-025840f69b60\",\"modelid\":\"39b676cb-ad73-456a-a96f-74708d401f21\"}];\n",
       "\n",
       "    root.Bokeh.embed.embed_items(docs_json, render_items);\n",
       "  }\n",
       "\n",
       "  if (root.Bokeh !== undefined) {\n",
       "    embed_document(root);\n",
       "  } else {\n",
       "    var attempts = 0;\n",
       "    var timer = setInterval(function(root) {\n",
       "      if (root.Bokeh !== undefined) {\n",
       "        embed_document(root);\n",
       "        clearInterval(timer);\n",
       "      }\n",
       "      attempts++;\n",
       "      if (attempts > 100) {\n",
       "        console.log(\"Bokeh: ERROR: Unable to embed document because BokehJS library is missing\")\n",
       "        clearInterval(timer);\n",
       "      }\n",
       "    }, 10, root)\n",
       "  }\n",
       "})(window);"
      ],
      "application/vnd.bokehjs_exec.v0+json": ""
     },
     "metadata": {
      "application/vnd.bokehjs_exec.v0+json": {
       "id": "39b676cb-ad73-456a-a96f-74708d401f21"
      }
     },
     "output_type": "display_data"
    }
   ],
   "source": [
    "output_notebook()\n",
    "plot_tfidf = bp.figure(plot_width=700, plot_height=600, title=\"tf-idf clustering of the news\",\n",
    "    tools=\"pan,wheel_zoom,box_zoom,reset,hover,previewsave\",\n",
    "    x_axis_type=None, y_axis_type=None, min_border=1)\n",
    "\n",
    "palette = d3['Category10'][len(tsne_tfidf_df['category'].unique())]\n",
    "color_map = bmo.CategoricalColorMapper(factors=tsne_tfidf_df['category'].map(str).unique(), palette=palette)\n",
    "source = ColumnDataSource(tsne_tfidf_df#[tsne_tfidf_df.category == 'general']\n",
    "                         )\n",
    "plot_tfidf.scatter(x='x', y='y', color={'field': 'category', 'transform': color_map}, \n",
    "                   legend='category', \n",
    "                   source=source)\n",
    "hover = plot_tfidf.select(dict(type=HoverTool))\n",
    "hover.tooltips={\"Headline\": \"@title\", \"category\":\"@category\"}\n",
    "\n",
    "show(plot_tfidf)"
   ]
  },
  {
   "cell_type": "code",
   "execution_count": 153,
   "metadata": {},
   "outputs": [
    {
     "data": {
      "text/plain": [
       "array(['general', 'technology', 'sports', 'business', 'entertainment',\n",
       "       'science'], dtype=object)"
      ]
     },
     "execution_count": 153,
     "metadata": {},
     "output_type": "execute_result"
    }
   ],
   "source": [
    "tsne_tfidf_df.category.unique()"
   ]
  },
  {
   "cell_type": "code",
   "execution_count": 154,
   "metadata": {},
   "outputs": [
    {
     "data": {
      "text/plain": [
       "array(['general', 'technology', 'sports', 'business', 'entertainment',\n",
       "       'science'], dtype=object)"
      ]
     },
     "execution_count": 154,
     "metadata": {},
     "output_type": "execute_result"
    }
   ],
   "source": [
    "data.category.unique()"
   ]
  },
  {
   "cell_type": "code",
   "execution_count": 209,
   "metadata": {
    "collapsed": true
   },
   "outputs": [],
   "source": [
    "num_features = 200\n",
    "min_word_count = 1\n",
    "num_workers = mp.cpu_count()\n",
    "context_window = 7\n",
    "downsampling = 1e-3\n",
    "seed = 666"
   ]
  },
  {
   "cell_type": "code",
   "execution_count": 210,
   "metadata": {},
   "outputs": [],
   "source": [
    "news2vec = w2c.Word2Vec(sg=1,\n",
    "                        seed = seed,\n",
    "                       workers = num_workers,\n",
    "                       size = num_features,\n",
    "                       min_count = min_word_count,\n",
    "                       window = context_window,\n",
    "                       sample = downsampling\n",
    "                       )"
   ]
  },
  {
   "cell_type": "code",
   "execution_count": 211,
   "metadata": {},
   "outputs": [],
   "source": [
    "news2vec.build_vocab(data.title_tokens.to_string())"
   ]
  },
  {
   "cell_type": "code",
   "execution_count": 216,
   "metadata": {},
   "outputs": [
    {
     "data": {
      "text/plain": [
       "(970561, 4542800)"
      ]
     },
     "execution_count": 216,
     "metadata": {},
     "output_type": "execute_result"
    }
   ],
   "source": [
    "news2vec.train(data.title_tokens.to_string(),\n",
    "               total_examples=news2vec.corpus_count,\n",
    "                epochs = 100)"
   ]
  },
  {
   "cell_type": "code",
   "execution_count": 218,
   "metadata": {},
   "outputs": [
    {
     "name": "stderr",
     "output_type": "stream",
     "text": [
      "C:\\Users\\sraina\\AppData\\Local\\Continuum\\anaconda2\\lib\\site-packages\\ipykernel_launcher.py:1: DeprecationWarning: Call to deprecated `__getitem__` (Method will be removed in 4.0.0, use self.wv.__getitem__() instead).\n",
      "  \"\"\"Entry point for launching an IPython kernel.\n"
     ]
    },
    {
     "data": {
      "text/plain": [
       "(42L, 200L)"
      ]
     },
     "execution_count": 218,
     "metadata": {},
     "output_type": "execute_result"
    }
   ],
   "source": [
    "X = news2vec[news2vec.wv.vocab]\n",
    "X.shape"
   ]
  },
  {
   "cell_type": "code",
   "execution_count": null,
   "metadata": {
    "collapsed": true
   },
   "outputs": [],
   "source": [
    "news_tsne = TSNE(n_components=2,random_state=0)\n"
   ]
  },
  {
   "cell_type": "code",
   "execution_count": 208,
   "metadata": {},
   "outputs": [
    {
     "name": "stderr",
     "output_type": "stream",
     "text": [
      "C:\\Users\\sraina\\AppData\\Local\\Continuum\\anaconda2\\lib\\site-packages\\ipykernel_launcher.py:1: DeprecationWarning: Call to deprecated `syn1neg` (Attribute will be removed in 4.0.0, use self.trainables.syn1neg instead).\n",
      "  \"\"\"Entry point for launching an IPython kernel.\n"
     ]
    },
    {
     "data": {
      "text/plain": [
       "(42L, 200L)"
      ]
     },
     "execution_count": 208,
     "metadata": {},
     "output_type": "execute_result"
    }
   ],
   "source": [
    "news2vec.syn1neg.shape"
   ]
  },
  {
   "cell_type": "code",
   "execution_count": null,
   "metadata": {
    "collapsed": true
   },
   "outputs": [],
   "source": []
  }
 ],
 "metadata": {
  "kernelspec": {
   "display_name": "Python 2",
   "language": "python",
   "name": "python2"
  },
  "language_info": {
   "codemirror_mode": {
    "name": "ipython",
    "version": 2
   },
   "file_extension": ".py",
   "mimetype": "text/x-python",
   "name": "python",
   "nbconvert_exporter": "python",
   "pygments_lexer": "ipython2",
   "version": "2.7.15"
  }
 },
 "nbformat": 4,
 "nbformat_minor": 2
}
